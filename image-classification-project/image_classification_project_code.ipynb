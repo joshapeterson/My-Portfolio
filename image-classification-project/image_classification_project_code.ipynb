{
  "cells": [
    {
      "cell_type": "markdown",
      "metadata": {
        "id": "b7RQrV0XFuxy"
      },
      "source": [
        "# **Detecting COVID-19 Using Chest X-rays**\n",
        "\n",
        "#### Group 3: Joshua Peterson, Michael Gray and Mangala Desai\n",
        "\n",
        "\n",
        "---\n",
        "\n"
      ]
    },
    {
      "cell_type": "markdown",
      "metadata": {
        "id": "ZF7IJrr6gx_D"
      },
      "source": [
        "### Project Initialization & Packages"
      ]
    },
    {
      "cell_type": "code",
      "execution_count": 1,
      "metadata": {
        "id": "TTJ6wQkzhTrz"
      },
      "outputs": [],
      "source": [
        "import os\n",
        "\n",
        "os.environ['PYTHONHASHSEED']=str(1) #to get reproducible results we have to set this seed before importing tf\n",
        "\n",
        "def reset_random_seeds():\n",
        "   os.environ['PYTHONHASHSEED']=str(1)\n",
        "   tf.random.set_seed(1)\n",
        "   np.random.seed(1)\n",
        "   random.seed(1)"
      ]
    },
    {
      "cell_type": "code",
      "execution_count": null,
      "metadata": {
        "id": "dvO-NuAFDLBV"
      },
      "outputs": [],
      "source": [
        "# Install packages that are needed for this notebook\n",
        "\n",
        "!pip install importlib_metadata\n",
        "!pip install image-quality"
      ]
    },
    {
      "cell_type": "markdown",
      "metadata": {
        "id": "FqSSQI867iJA"
      },
      "source": [
        "The following are all the packages needed for this project."
      ]
    },
    {
      "cell_type": "code",
      "execution_count": 3,
      "metadata": {
        "id": "p1RBAJ7kfHkj"
      },
      "outputs": [],
      "source": [
        "import zipfile\n",
        "import json\n",
        "import ast\n",
        "import cv2\n",
        "import shutil\n",
        "import pathlib\n",
        "import random\n",
        "import warnings\n",
        "import tensorflow as tf\n",
        "import pandas as pd\n",
        "import numpy as np\n",
        "import seaborn as sns\n",
        "import matplotlib.pyplot as plt\n",
        "import imquality.brisque as brisque\n",
        "from matplotlib import rcParams, image\n",
        "from importlib_metadata import metadata\n",
        "from skimage import draw, io, img_as_float\n",
        "from sklearn.metrics import classification_report\n",
        "from tensorflow import keras\n",
        "from keras import layers\n",
        "from keras.utils import load_img, image_dataset_from_directory, img_to_array\n",
        "from PIL import Image\n",
        "from os.path import isfile, join\n",
        "from random import shuffle\n",
        "from sklearn.utils import shuffle\n",
        "from scipy.stats import ttest_ind\n",
        "from os import listdir"
      ]
    },
    {
      "cell_type": "markdown",
      "metadata": {
        "id": "V8kwe9lhh4WB"
      },
      "source": [
        "### Import Dataset to Google Colab"
      ]
    },
    {
      "cell_type": "code",
      "execution_count": 4,
      "metadata": {
        "colab": {
          "base_uri": "https://localhost:8080/"
        },
        "id": "p1AQtYgYFnIk",
        "outputId": "5bd54492-333e-4872-bf23-f76abcb06127"
      },
      "outputs": [
        {
          "output_type": "stream",
          "name": "stdout",
          "text": [
            "Mounted at /content/gdrive/\n"
          ]
        }
      ],
      "source": [
        "# For use if working from Google Drive\n",
        "\n",
        "from google.colab import drive\n",
        "\n",
        "drive.mount('/content/gdrive/')\n",
        "\n",
        "gdrive_dir = \"/content/gdrive/MyDrive/DSBA 6165/Group Project Work/\" # This directory reference will need to be updated to wherever the covid-19-chest-x-ray-dataset.zip file is located\n",
        "\n",
        "if not os.path.exists(gdrive_dir + \"covid-19-chest-x-ray-dataset\"):\n",
        "  os.makedirs(gdrive_dir + \"covid-19-chest-x-ray-dataset\")"
      ]
    },
    {
      "cell_type": "code",
      "execution_count": null,
      "metadata": {
        "id": "DCWRqnsafSFD"
      },
      "outputs": [],
      "source": [
        "zip_ref = zipfile.ZipFile(gdrive_dir + 'covid-19-chest-x-ray-dataset.zip', 'r') # Access the zip file containing the dataset\n",
        "zip_ref.extractall(gdrive_dir) # Extract dataset from the zip file\n",
        "zip_ref.close()"
      ]
    },
    {
      "cell_type": "code",
      "execution_count": null,
      "metadata": {
        "id": "SzE-Q2qJGhEi"
      },
      "outputs": [],
      "source": [
        "# For use if uploading dataset from local storage\n",
        "\n",
        "# from google.colab import files\n",
        "\n",
        "# upload = files.upload()"
      ]
    },
    {
      "cell_type": "markdown",
      "metadata": {
        "id": "N-6MUe3_iyNx"
      },
      "source": [
        "### Aggregate JSONs"
      ]
    },
    {
      "cell_type": "markdown",
      "metadata": {
        "id": "rsshKjwf8cEQ"
      },
      "source": [
        "This code aggregates all the individual image JSONs into one JSON file. This will make the JSON information easier to access. **This code does not need to be run if you already have the final *all_jsons.json* file**"
      ]
    },
    {
      "cell_type": "code",
      "execution_count": null,
      "metadata": {
        "id": "tY3yFK1bgvif"
      },
      "outputs": [],
      "source": [
        "content_dir = '/content/'\n",
        "directory = gdrive_dir + 'covid-19-chest-x-ray-dataset/releases/all-images/annotations/'\n",
        "\n",
        "all_dicts = []\n",
        "\n",
        "for filename in os.listdir(directory): # THIS TAKES A FEW MINUTES ON A LOCAL COMPUTER AND ABOUT A MINUTE ON COLAB\n",
        "    filepath = directory+filename\n",
        "    with open(filepath, 'r') as j:\n",
        "        contents = json.loads(j.read())\n",
        "        all_dicts.append(contents)\n",
        "\n",
        "with open(gdrive_dir + 'covid-19-chest-x-ray-dataset/all_jsons.json', 'w') as fout:\n",
        "    json.dump(all_dicts, fout)"
      ]
    },
    {
      "cell_type": "markdown",
      "metadata": {
        "id": "1HrLe8QhlZTi"
      },
      "source": [
        "### Removal of Unwanted Images"
      ]
    },
    {
      "cell_type": "markdown",
      "metadata": {
        "id": "WdXE0CGy8iLZ"
      },
      "source": [
        "The following script identifies the images that we would like to exclude from the dataset. **This code does not need to be run if you already have the final *all_jsons.json* file**"
      ]
    },
    {
      "cell_type": "code",
      "execution_count": null,
      "metadata": {
        "id": "1s5CJVrg8TSt"
      },
      "outputs": [],
      "source": [
        "with open(gdrive_dir + 'covid-19-chest-x-ray-dataset/all_jsons.json', 'r') as j: # open the file\n",
        "    all_jsons = json.loads(j.read())\n",
        "\n",
        "badfiles = []\n",
        "for metadatarecord in all_jsons:\n",
        "    lungcounter = 0\n",
        "    for a in metadatarecord['annotations']: # loop through annotations list (contains at least 2 lungs, sometimes more stuff)\n",
        "        if a['name'] == 'Lung': # if the annotation object is for a Lung mask path:\n",
        "            lungcounter += 1\n",
        "        else: # if the annotation object is not a Lung mask path, ignore it\n",
        "            continue\n",
        "    if lungcounter != 2:\n",
        "        badfiles.append(metadatarecord['image']['filename'])\n",
        "\n",
        "with open(gdrive_dir + 'covid-19-chest-x-ray-dataset/badfiles.txt', 'w') as f:\n",
        "    f.write(str(badfiles))"
      ]
    },
    {
      "cell_type": "markdown",
      "metadata": {
        "id": "0Wl4k6y6BvNG"
      },
      "source": [
        "The following creates an object of the classes within the dataset. **This does not need to be run if you already have the *class_df.pkl* file.**"
      ]
    },
    {
      "cell_type": "code",
      "execution_count": null,
      "metadata": {
        "id": "q31hiDvxBfMT"
      },
      "outputs": [],
      "source": [
        "filename = gdrive_dir + 'covid-19-chest-x-ray-dataset/all_jsons.json' # file created by running aggregate_jsons.py\n",
        "\n",
        "with open(filename, 'r') as j: # open the file\n",
        "    all_jsons = json.loads(j.read())\n",
        "\n",
        "class_list = ['filename','Bacterial Pneumonia','No Pneumonia (healthy)','Viral Pneumonia','COVID-19','NOS','Fungal Pneumonia','Undefined Pneumonia','Lipoid pneumonia']\n",
        "# NOS is not a tag used by the dataset, but will be a column we use to tally not-otherwise-specified data\n",
        "# We've gone ahead and ordered the classes based on their prevalence in the dataset.\n",
        "# Also added a filename column\n",
        "\n",
        "zero_data = np.zeros(shape=(len(all_jsons),len(class_list)),dtype=int) # make a 2-d array of zeros\n",
        "class_df = pd.DataFrame(zero_data, columns=class_list) # pre-populate dataframe with zeros\n",
        "\n",
        "patient_counter = 0 # initialize patient_counter variable\n",
        "found_tag = False # initialize flag variable to trag whether we find a tag match\n",
        "\n",
        "for patient in all_jsons: # loop through each patient dict\n",
        "    found_tag = False # reset the found_tag flag with each new patient record\n",
        "    class_df.loc[patient_counter,'filename'] = patient['image']['filename']\n",
        "    for tag in patient['annotations']:\n",
        "        if tag['name'] in class_list: # check if tag name matches with our class list\n",
        "            class_df.loc[patient_counter,tag['name']] = 1 # put a 1 in the relevant column for that patient\n",
        "            found_tag = True # make the flag true so we don't put a mark in the NOS column\n",
        "\n",
        "    if found_tag == False: # if we didn't find any tag in the list, mark as NOS\n",
        "        class_df.loc[patient_counter,'NOS'] = 1\n",
        "\n",
        "    patient_counter+=1 #increment the counter\n",
        "\n",
        "# Since all COVID-19 cases are also tagged as Viral Pneumonia, we will 0 the Viral Pneumonia cell for those cases,\n",
        "# so that the Viral Pneumonia column corresponds to non-COVID Viral Pneumonia:\n",
        "class_df.loc[class_df['COVID-19']==1,'Viral Pneumonia'] = 0\n",
        "class_df.rename(columns={'Viral Pneumonia':'Non-COVID Viral Pneumonia'},inplace=True)\n",
        "\n",
        "class_df.to_pickle(gdrive_dir + 'covid-19-chest-x-ray-dataset/class_df.pkl') # save the dataframe as a pickle for easy re-loading"
      ]
    },
    {
      "cell_type": "markdown",
      "metadata": {
        "id": "-y3zZIiF6koM"
      },
      "source": [
        "The following identifies the classes we would like to exclude from the dataset. **This code does not need to be run if you already have the *irrelevant_classes.txt* file.**"
      ]
    },
    {
      "cell_type": "code",
      "execution_count": null,
      "metadata": {
        "id": "kGwbQ_-wB-iP"
      },
      "outputs": [],
      "source": [
        "df = pd.read_pickle(gdrive_dir + 'covid-19-chest-x-ray-dataset/class_df.pkl')\n",
        "index_of_images_to_remove = (df['NOS']==1) | (df['Fungal Pneumonia']==1) | (df['Undefined Pneumonia']==1) | (df['Lipoid pneumonia']==1)\n",
        "irrelevant_classes = df.loc[index_of_images_to_remove,'filename'].tolist()\n",
        "\n",
        "with open(gdrive_dir + 'covid-19-chest-x-ray-dataset/irrelevant_classes.txt', 'w') as f:\n",
        "    f.write(str(irrelevant_classes))"
      ]
    },
    {
      "cell_type": "markdown",
      "metadata": {
        "id": "yz7qV6y2ltDa"
      },
      "source": [
        "The following script removes xray images that are in non-standard orientations, as well as their corresponding JSON files. After running this script, the **Aggregate JSONs** section should be rerun to create an aggregated JSON that does not contain records with unwanted x-ray orientations."
      ]
    },
    {
      "cell_type": "code",
      "execution_count": null,
      "metadata": {
        "id": "b4oOKmc1lhjS"
      },
      "outputs": [],
      "source": [
        "with open(gdrive_dir + 'covid-19-chest-x-ray-dataset/badfiles.txt', 'r') as t: # open the file\n",
        "    badfiles = t.readlines()\n",
        "\n",
        "badfiles = ast.literal_eval(badfiles[0]) # convert list saved as string back to list\n",
        "\n",
        "image_dir = content_dir + 'covid-19-chest-x-ray-dataset/images/'\n",
        "json_dir = content_dir + 'covid-19-chest-x-ray-dataset/releases/all-images/annotations/'\n",
        "\n",
        "for file in badfiles:\n",
        "    record_number = file.split('.')[0] # get the record number by splitting from the . in the filename, since the images are of varying file types\n",
        "    if os.path.isfile(image_dir + file) == True: # check if file exists and then remove if it does\n",
        "        os.remove(image_dir + file)\n",
        "    else:\n",
        "        print('File ' + file + ' did not exist, moving on...')\n",
        "\n",
        "    if os.path.isfile(json_dir + record_number + '.json') == True:    # check if file exists and then remove if it does\n",
        "        os.remove(json_dir + record_number + '.json')\n",
        "    else:\n",
        "        print('File ' + record_number + '.json' + ' did not exist, moving on...')"
      ]
    },
    {
      "cell_type": "markdown",
      "metadata": {
        "id": "ndps2P62CIsT"
      },
      "source": [
        "The following script removes unwanted classes from the dataset, as well as their corresponding JSON files. After running this script, you should re-run **Aggregate JSONs** to create an aggregated JSON that does not contain records with the unwanted classes.\n"
      ]
    },
    {
      "cell_type": "code",
      "execution_count": null,
      "metadata": {
        "id": "Ig7TVIzJCHZG"
      },
      "outputs": [],
      "source": [
        "with open(gdrive_dir + 'covid-19-chest-x-ray-dataset/irrelevant_classes.txt', 'r') as t: # open the file\n",
        "    irrelevant_classes = t.readlines()\n",
        "\n",
        "irrelevant_classes = ast.literal_eval(irrelevant_classes[0]) # convert list saved as string back to list (sorry, probably should have saved the list differently)\n",
        "\n",
        "image_dir = content_dir + 'covid-19-chest-x-ray-dataset/images/'\n",
        "json_dir = content_dir + 'covid-19-chest-x-ray-dataset/releases/all-images/annotations/'\n",
        "\n",
        "for file in irrelevant_classes:\n",
        "    record_number = file.split('.')[0] # get the record number by splitting from the . in the filename, since the images are of varying file types\n",
        "    if os.path.isfile(image_dir+file) == True: # check if file exists and then remove if it does\n",
        "        os.remove(image_dir+file)\n",
        "    else:\n",
        "        print('File ' + file + ' did not exist, moving on...')\n",
        "\n",
        "    if os.path.isfile(json_dir+record_number+'.json') == True:    # check if file exists and then remove if it does\n",
        "        os.remove(json_dir+record_number+'.json')\n",
        "    else:\n",
        "        print('File ' + record_number+'.json' + ' did not exist, moving on...')\n"
      ]
    },
    {
      "cell_type": "markdown",
      "metadata": {
        "id": "7TTj8GQgBubI"
      },
      "source": [
        "Once all unwanted image orientations and classes have been removed, the **Aggregate JSONs** section should be rerun to recompile the *all_jsons.json* file."
      ]
    },
    {
      "cell_type": "markdown",
      "metadata": {
        "id": "o586zo_rlA4-"
      },
      "source": [
        "### Create Masks for Images"
      ]
    },
    {
      "cell_type": "markdown",
      "metadata": {
        "id": "kms1aamRAhpL"
      },
      "source": [
        "Create a directory to store the masks and masked images."
      ]
    },
    {
      "cell_type": "code",
      "execution_count": null,
      "metadata": {
        "id": "NRJ2_FPKk_00"
      },
      "outputs": [],
      "source": [
        "mask_img_path = gdrive_dir + 'covid-19-chest-x-ray-dataset/masked_images'\n",
        "mask_path = gdrive_dir + 'covid-19-chest-x-ray-dataset/masks'\n",
        "\n",
        "if not os.path.exists(mask_img_path):\n",
        "  os.makedirs(mask_img_path)\n",
        "\n",
        "if not os.path.exists(mask_path):\n",
        "  os.makedirs(mask_path)"
      ]
    },
    {
      "cell_type": "markdown",
      "metadata": {
        "id": "4RZsOfgiFADn"
      },
      "source": [
        "Create the image masks.\n",
        "\n",
        "This code only needs to be run once to initially create the image masks. **If the image masks are already provided, then this code does not need to be run.** This could take around 4 hours to run."
      ]
    },
    {
      "cell_type": "code",
      "execution_count": null,
      "metadata": {
        "id": "BIDHem7KE_Gc"
      },
      "outputs": [],
      "source": [
        "with open(gdrive_dir + 'covid-19-chest-x-ray-dataset/all_jsons.json', 'r') as j: # open the file\n",
        "    all_jsons = json.loads(j.read())\n",
        "\n",
        "def get_imdims(metadatarecord):   # we need to know the width and the height of the image that we're getting mask coordinates for\n",
        "    img_width = metadatarecord['image']['width']\n",
        "    img_height = metadatarecord['image']['height']\n",
        "    return img_width, img_height\n",
        "\n",
        "def get_maskpath(metadatarecord):   # function to get x and y coordinate paths for lung mask annotations\n",
        "    lung1_x = [] # initialize lists to append x and y mask path coordinates to\n",
        "    lung1_y = []\n",
        "    lung2_x = []\n",
        "    lung2_y = []\n",
        "    lungcounter = 0\n",
        "    for a in metadatarecord['annotations']: # loop through annotations list (contains at least 2 lungs, sometimes more stuff)\n",
        "        if a['name'] == 'Lung': # if the annotation object is for a Lung mask path:\n",
        "            lungcounter += 1\n",
        "            if lungcounter == 1:\n",
        "                for xy in a['polygon']['path']: # polygon.path contains a list of dictionaries which contain single x and y values\n",
        "                    lung1_x.append(xy['x']) # append x values to list\n",
        "                    lung1_y.append(xy['y']) # append y values to list\n",
        "            elif lungcounter == 2:\n",
        "                for xy in a['polygon']['path']: # polygon.path contains a list of dictionaries which contain single x and y values\n",
        "                    lung2_x.append(xy['x']) # append x values to list\n",
        "                    lung2_y.append(xy['y']) # append y values to list\n",
        "        else: # if the annotation object is not a Lung mask path, ignore it\n",
        "            continue\n",
        "\n",
        "    return lung1_x, lung1_y, lung2_x, lung2_y  #return the x and y coordinate lists for each lung separately\n",
        "\n",
        "def create_mask(img_height, img_width, y_coords, x_coords):  # function to create masks for each lung: a 2d array where True = lung and False = not lung\n",
        "    mask = draw.polygon2mask(\n",
        "        (img_height, img_width),\n",
        "        np.stack((y_coords, x_coords), axis=1)\n",
        "    )\n",
        "    return mask\n",
        "\n",
        "output_dir = gdrive_dir + 'covid-19-chest-x-ray-dataset/masks/' # directory for saving mask files\n",
        "\n",
        "for record in all_jsons: # loop through each patient record in the all_jsons file we made (these are metadata records)\n",
        "    if not os.path.exists(output_dir + record['image']['filename'].split('.')[0]+'_mask.png'):\n",
        "        img_width, img_height = get_imdims(record)\n",
        "        lung1_x, lung1_y, lung2_x, lung2_y = get_maskpath(record)\n",
        "        lung1 = create_mask(img_height, img_width, lung1_y, lung1_x)\n",
        "        lung2 = create_mask(img_height, img_width, lung2_y, lung2_x)\n",
        "\n",
        "        lungs_mask = lung1 | lung2 # combining the binary (True/False) masks using the or operator\n",
        "\n",
        "        # fig, ax = plt.subplots(1, 1)   # can use this in debugging to look at a mask but don't uncomment this when looping through all records\n",
        "        # ax.imshow(lungs_mask, interpolation='nearest', cmap='gray')\n",
        "        # plt.show()\n",
        "        outfile = record['image']['filename'].split('.')[0]+'_mask.png'\n",
        "        cv2.imwrite(output_dir+outfile, lungs_mask*255) # converts the boolean array implicitly to integer; 0 for false and 1 for true and multiplies by 255 to make it a bit-mask before writing to file"
      ]
    },
    {
      "cell_type": "markdown",
      "metadata": {
        "id": "YkHRSCMxpFYF"
      },
      "source": [
        "Sample of image mask."
      ]
    },
    {
      "cell_type": "code",
      "execution_count": null,
      "metadata": {
        "colab": {
          "base_uri": "https://localhost:8080/",
          "height": 269
        },
        "id": "OjTfqO1JpD4x",
        "outputId": "42fe7041-d896-4728-b3bf-29850f48cabd"
      },
      "outputs": [
        {
          "data": {
            "image/png": "[encoded data removed]",
            "text/plain": [
              "<Figure size 432x288 with 1 Axes>"
            ]
          },
          "metadata": {},
          "output_type": "display_data"
        }
      ],
      "source": [
        "im = image.imread(gdrive_dir + \"covid-19-chest-x-ray-dataset/masks/00000265_mask.png\")\n",
        "plt.imshow(im)\n",
        "plt.show()"
      ]
    },
    {
      "cell_type": "markdown",
      "metadata": {
        "id": "xd9fCsUg8QU6"
      },
      "source": [
        "Create masked images. This code only needs to be run once to create the masked images. **If the masked images are already provided, this code does not need to be run.** This could take up to 50 mins to run."
      ]
    },
    {
      "cell_type": "code",
      "execution_count": null,
      "metadata": {
        "id": "aMy7WCgs77k6"
      },
      "outputs": [],
      "source": [
        "with open(gdrive_dir + 'covid-19-chest-x-ray-dataset/all_jsons.json', 'r') as j: # open the file\n",
        "    all_jsons = json.loads(j.read())\n",
        "\n",
        "content_dir = '/content/'\n",
        "\n",
        "mask_dir = gdrive_dir + 'covid-19-chest-x-ray-dataset/masks/'\n",
        "image_dir = gdrive_dir + 'covid-19-chest-x-ray-dataset/images/'\n",
        "masked_image_dir = gdrive_dir + 'covid-19-chest-x-ray-dataset/masked_images/'\n",
        "\n",
        "for record in all_jsons:\n",
        "    record_number = record['image']['filename'].split('.')[0]\n",
        "    mask_path = mask_dir+record_number+'_mask.png'\n",
        "    image_path = image_dir+record['image']['filename']\n",
        "    masked_image_path = masked_image_dir+record_number+'_masked_image.png'\n",
        "    if os.path.isfile(image_path)==True: # if the image is found in the specified directory the mask png is applied to the image using a bitwise AND operation\n",
        "        image = cv2.imread(image_path) # reads the image\n",
        "        mask = cv2.imread(mask_path) # reads the mask image\n",
        "        masked_image = cv2.bitwise_and(image, mask) # applies the mask to the image\n",
        "        cv2.imwrite(masked_image_path,masked_image)\n",
        "    else:\n",
        "        print('File ' + image_path + ' did not exist, moving on...')"
      ]
    },
    {
      "cell_type": "markdown",
      "metadata": {
        "id": "h-7aUoatu3CY"
      },
      "source": [
        "Sample of image with mask applied."
      ]
    },
    {
      "cell_type": "code",
      "execution_count": null,
      "metadata": {
        "colab": {
          "base_uri": "https://localhost:8080/",
          "height": 269
        },
        "id": "W3l_oFmJu9SH",
        "outputId": "b0957dd6-cf08-4b85-fe57-4ebcfe1842dc"
      },
      "outputs": [
        {
          "data": {
            "image/png": "[encoded data removed]",
            "text/plain": [
              "<Figure size 432x288 with 1 Axes>"
            ]
          },
          "metadata": {},
          "output_type": "display_data"
        }
      ],
      "source": [
        "im_masked = image.imread(gdrive_dir + \"covid-19-chest-x-ray-dataset/masked_images/00000265_masked_image.png\")\n",
        "plt.imshow(im_masked)\n",
        "plt.show()"
      ]
    },
    {
      "cell_type": "code",
      "execution_count": null,
      "metadata": {
        "colab": {
          "base_uri": "https://localhost:8080/"
        },
        "id": "NB8L8HYzUKo6",
        "outputId": "ef04c1d0-e959-40f9-d9a5-98ab28b8f134"
      },
      "outputs": [
        {
          "name": "stdout",
          "output_type": "stream",
          "text": [
            "6287 6293\n"
          ]
        }
      ],
      "source": [
        "lst_masks = os.listdir(gdrive_dir + 'covid-19-chest-x-ray-dataset/masks/') # the directory path\n",
        "lst_masked_img = os.listdir(gdrive_dir + 'covid-19-chest-x-ray-dataset/masked_images/') # the directory path\n",
        "\n",
        "len_masks = len(lst_masks)\n",
        "len_masked_images = len(lst_masked_img)\n",
        "print(len_masks, len_masked_images)"
      ]
    },
    {
      "cell_type": "markdown",
      "metadata": {
        "id": "hUejoEH_9Ymi"
      },
      "source": [
        "### Image Preprocessing"
      ]
    },
    {
      "cell_type": "markdown",
      "metadata": {
        "id": "eT3Kku4T3Say"
      },
      "source": [
        "Resize masked images. This takes about 15 minutes to run. **This code does not need to be run if the masked images are already resized to 200 x 200.**"
      ]
    },
    {
      "cell_type": "code",
      "execution_count": null,
      "metadata": {
        "id": "2k9okfNo27i0"
      },
      "outputs": [],
      "source": [
        "path = gdrive_dir + \"covid-19-chest-x-ray-dataset/masked_images/\"\n",
        "\n",
        "im_size = 200 # set the length and width of image\n",
        "\n",
        "for file in os.listdir(path):\n",
        "    f_img = path + file\n",
        "    if os.path.isfile(f_img)==True:\n",
        "        img = Image.open(f_img) # open image from masked image directory\n",
        "        img = img.resize((im_size, im_size)) # resize image to the dimensions specified\n",
        "        img.save(f_img) # save resized image\n",
        "    else:\n",
        "        print(file, \"did not exist. Moving on...\")"
      ]
    },
    {
      "cell_type": "markdown",
      "metadata": {
        "id": "VXQA4ysQZX1o"
      },
      "source": [
        "Create Brisque score for each image. **This code does not need to be run if you already have the *brisque_scores.csv* file.** This takes up to about 50 minutes to run depending on the size of the images."
      ]
    },
    {
      "cell_type": "code",
      "execution_count": null,
      "metadata": {
        "id": "cSbVkQx-6i-t"
      },
      "outputs": [],
      "source": [
        "warnings.filterwarnings(\"ignore\", category=FutureWarning) # ignores future warnings that are not needed\n",
        "\n",
        "path = gdrive_dir + \"covid-19-chest-x-ray-dataset/masked_images/\"\n",
        "\n",
        "brisque_scores = [] # initiating an empty list to store brisque scores for each image\n",
        "\n",
        "for file in os.listdir(path):\n",
        "    f_img = path + \"/\" + file\n",
        "    img = Image.open(f_img); # open image from masked image directory\n",
        "    b_score = brisque.score(img); # get the brisque score for that image\n",
        "    append_list = [file, b_score]\n",
        "    brisque_scores.append(append_list); # append file name and its brisque score to 'brisque_scores' list"
      ]
    },
    {
      "cell_type": "code",
      "execution_count": null,
      "metadata": {
        "id": "myj2tbt8kwBU"
      },
      "outputs": [],
      "source": [
        "brisque_df = pd.DataFrame(brisque_scores) # create pandas dataframe from brisque_scores list\n",
        "\n",
        "brisque_df.to_csv(gdrive_dir + 'covid-19-chest-x-ray-dataset/brisque_scores.csv', index=False, header=False) # save brisque_score information for later reference"
      ]
    },
    {
      "cell_type": "markdown",
      "metadata": {
        "id": "LouYPII6_tPz"
      },
      "source": [
        "The following code reads in the calculated brisque score information. **Start here if you already have the *brisque_scores.csv* file.**"
      ]
    },
    {
      "cell_type": "code",
      "execution_count": 5,
      "metadata": {
        "id": "6pVxhZecTQK6"
      },
      "outputs": [],
      "source": [
        "brisque_df = pd.read_csv(gdrive_dir + 'covid-19-chest-x-ray-dataset/brisque_scores.csv', header=None)"
      ]
    },
    {
      "cell_type": "code",
      "execution_count": null,
      "metadata": {
        "colab": {
          "base_uri": "https://localhost:8080/"
        },
        "id": "RbkxEF3r9-Jp",
        "outputId": "2ca54bca-c56c-405d-b527-e697f93a009b"
      },
      "outputs": [
        {
          "output_type": "execute_result",
          "data": {
            "text/plain": [
              "6287"
            ]
          },
          "metadata": {},
          "execution_count": 6
        }
      ],
      "source": [
        "len(brisque_df) # the number of x-rays with a calculated brisque score"
      ]
    },
    {
      "cell_type": "code",
      "execution_count": null,
      "metadata": {
        "colab": {
          "base_uri": "https://localhost:8080/",
          "height": 206
        },
        "id": "3F_PxxPgJHiU",
        "outputId": "e68d0f72-0370-4387-f321-0555091f4ea2"
      },
      "outputs": [
        {
          "data": {
            "text/html": [
              "\n",
              "  <div id=\"df-bdbfad4e-1053-42a1-9a34-68195154b954\">\n",
              "    <div class=\"colab-df-container\">\n",
              "      <div>\n",
              "<style scoped>\n",
              "    .dataframe tbody tr th:only-of-type {\n",
              "        vertical-align: middle;\n",
              "    }\n",
              "\n",
              "    .dataframe tbody tr th {\n",
              "        vertical-align: top;\n",
              "    }\n",
              "\n",
              "    .dataframe thead th {\n",
              "        text-align: right;\n",
              "    }\n",
              "</style>\n",
              "<table border=\"1\" class=\"dataframe\">\n",
              "  <thead>\n",
              "    <tr style=\"text-align: right;\">\n",
              "      <th></th>\n",
              "      <th>0</th>\n",
              "      <th>1</th>\n",
              "    </tr>\n",
              "  </thead>\n",
              "  <tbody>\n",
              "    <tr>\n",
              "      <th>0</th>\n",
              "      <td>00004615_masked_image.png</td>\n",
              "      <td>60.874041</td>\n",
              "    </tr>\n",
              "    <tr>\n",
              "      <th>1</th>\n",
              "      <td>00003568_masked_image.png</td>\n",
              "      <td>67.336177</td>\n",
              "    </tr>\n",
              "    <tr>\n",
              "      <th>2</th>\n",
              "      <td>00004282_masked_image.png</td>\n",
              "      <td>62.420700</td>\n",
              "    </tr>\n",
              "    <tr>\n",
              "      <th>3</th>\n",
              "      <td>00002865_masked_image.png</td>\n",
              "      <td>53.093490</td>\n",
              "    </tr>\n",
              "    <tr>\n",
              "      <th>4</th>\n",
              "      <td>00003779_masked_image.png</td>\n",
              "      <td>51.226945</td>\n",
              "    </tr>\n",
              "  </tbody>\n",
              "</table>\n",
              "</div>\n",
              "      <button class=\"colab-df-convert\" onclick=\"convertToInteractive('df-bdbfad4e-1053-42a1-9a34-68195154b954')\"\n",
              "              title=\"Convert this dataframe to an interactive table.\"\n",
              "              style=\"display:none;\">\n",
              "        \n",
              "  <svg xmlns=\"http://www.w3.org/2000/svg\" height=\"24px\"viewBox=\"0 0 24 24\"\n",
              "       width=\"24px\">\n",
              "    <path d=\"M0 0h24v24H0V0z\" fill=\"none\"/>\n",
              "    <path d=\"M18.56 5.44l.94 2.06.94-2.06 2.06-.94-2.06-.94-.94-2.06-.94 2.06-2.06.94zm-11 1L8.5 8.5l.94-2.06 2.06-.94-2.06-.94L8.5 2.5l-.94 2.06-2.06.94zm10 10l.94 2.06.94-2.06 2.06-.94-2.06-.94-.94-2.06-.94 2.06-2.06.94z\"/><path d=\"M17.41 7.96l-1.37-1.37c-.4-.4-.92-.59-1.43-.59-.52 0-1.04.2-1.43.59L10.3 9.45l-7.72 7.72c-.78.78-.78 2.05 0 2.83L4 21.41c.39.39.9.59 1.41.59.51 0 1.02-.2 1.41-.59l7.78-7.78 2.81-2.81c.8-.78.8-2.07 0-2.86zM5.41 20L4 18.59l7.72-7.72 1.47 1.35L5.41 20z\"/>\n",
              "  </svg>\n",
              "      </button>\n",
              "      \n",
              "  <style>\n",
              "    .colab-df-container {\n",
              "      display:flex;\n",
              "      flex-wrap:wrap;\n",
              "      gap: 12px;\n",
              "    }\n",
              "\n",
              "    .colab-df-convert {\n",
              "      background-color: #E8F0FE;\n",
              "      border: none;\n",
              "      border-radius: 50%;\n",
              "      cursor: pointer;\n",
              "      display: none;\n",
              "      fill: #1967D2;\n",
              "      height: 32px;\n",
              "      padding: 0 0 0 0;\n",
              "      width: 32px;\n",
              "    }\n",
              "\n",
              "    .colab-df-convert:hover {\n",
              "      background-color: #E2EBFA;\n",
              "      box-shadow: 0px 1px 2px rgba(60, 64, 67, 0.3), 0px 1px 3px 1px rgba(60, 64, 67, 0.15);\n",
              "      fill: #174EA6;\n",
              "    }\n",
              "\n",
              "    [theme=dark] .colab-df-convert {\n",
              "      background-color: #3B4455;\n",
              "      fill: #D2E3FC;\n",
              "    }\n",
              "\n",
              "    [theme=dark] .colab-df-convert:hover {\n",
              "      background-color: #434B5C;\n",
              "      box-shadow: 0px 1px 3px 1px rgba(0, 0, 0, 0.15);\n",
              "      filter: drop-shadow(0px 1px 2px rgba(0, 0, 0, 0.3));\n",
              "      fill: #FFFFFF;\n",
              "    }\n",
              "  </style>\n",
              "\n",
              "      <script>\n",
              "        const buttonEl =\n",
              "          document.querySelector('#df-bdbfad4e-1053-42a1-9a34-68195154b954 button.colab-df-convert');\n",
              "        buttonEl.style.display =\n",
              "          google.colab.kernel.accessAllowed ? 'block' : 'none';\n",
              "\n",
              "        async function convertToInteractive(key) {\n",
              "          const element = document.querySelector('#df-bdbfad4e-1053-42a1-9a34-68195154b954');\n",
              "          const dataTable =\n",
              "            await google.colab.kernel.invokeFunction('convertToInteractive',\n",
              "                                                     [key], {});\n",
              "          if (!dataTable) return;\n",
              "\n",
              "          const docLinkHtml = 'Like what you see? Visit the ' +\n",
              "            '<a target=\"_blank\" href=https://colab.research.google.com/notebooks/data_table.ipynb>data table notebook</a>'\n",
              "            + ' to learn more about interactive tables.';\n",
              "          element.innerHTML = '';\n",
              "          dataTable['output_type'] = 'display_data';\n",
              "          await google.colab.output.renderOutput(dataTable, element);\n",
              "          const docLink = document.createElement('div');\n",
              "          docLink.innerHTML = docLinkHtml;\n",
              "          element.appendChild(docLink);\n",
              "        }\n",
              "      </script>\n",
              "    </div>\n",
              "  </div>\n",
              "  "
            ],
            "text/plain": [
              "                           0          1\n",
              "0  00004615_masked_image.png  60.874041\n",
              "1  00003568_masked_image.png  67.336177\n",
              "2  00004282_masked_image.png  62.420700\n",
              "3  00002865_masked_image.png  53.093490\n",
              "4  00003779_masked_image.png  51.226945"
            ]
          },
          "execution_count": 10,
          "metadata": {},
          "output_type": "execute_result"
        }
      ],
      "source": [
        "brisque_df[:5] # a sample of 5 images and their brisque scores"
      ]
    },
    {
      "cell_type": "code",
      "execution_count": null,
      "metadata": {
        "colab": {
          "base_uri": "https://localhost:8080/"
        },
        "id": "vy1vi7G5lSRK",
        "outputId": "5e6ae3b6-dddd-4b36-c5f6-df217f7b9e25"
      },
      "outputs": [
        {
          "data": {
            "text/plain": [
              "count    6287.000000\n",
              "mean       57.041417\n",
              "std         7.914208\n",
              "min        22.582087\n",
              "25%        51.745770\n",
              "50%        56.985548\n",
              "75%        62.430678\n",
              "max        95.258123\n",
              "Name: 1, dtype: float64"
            ]
          },
          "execution_count": 11,
          "metadata": {},
          "output_type": "execute_result"
        }
      ],
      "source": [
        "brisque_df[1].describe()"
      ]
    },
    {
      "cell_type": "code",
      "execution_count": 6,
      "metadata": {
        "colab": {
          "base_uri": "https://localhost:8080/",
          "height": 522
        },
        "id": "Y48LM2agl29U",
        "outputId": "31802a85-e483-4e91-cb2c-72d8b76914e2"
      },
      "outputs": [
        {
          "output_type": "stream",
          "name": "stderr",
          "text": [
            "<ipython-input-6-564e8a58a3dd>:1: MatplotlibDeprecationWarning: The seaborn styles shipped by Matplotlib are deprecated since 3.6, as they no longer correspond to the styles shipped by seaborn. However, they will remain available as 'seaborn-v0_8-<style>'. Alternatively, directly use the seaborn API instead.\n",
            "  plt.style.use('seaborn-whitegrid')\n"
          ]
        },
        {
          "output_type": "display_data",
          "data": {
            "text/plain": [
              "<Figure size 640x480 with 1 Axes>"
            ],
            "image/png": "[encoded data removed]"
          },
          "metadata": {}
        }
      ],
      "source": [
        "plt.style.use('seaborn-whitegrid')\n",
        "plt.title(\"Histogram of Brisque Scores\")\n",
        "plt.xlabel(\"BRISQUE Score\")\n",
        "plt.ylabel(\"Count\")\n",
        "brisque_df[1].hist(color=\"#005035\")\n",
        "plt.show()"
      ]
    },
    {
      "cell_type": "markdown",
      "metadata": {
        "id": "U_4mFaJXe0u-"
      },
      "source": [
        "Identifying the poor quality images"
      ]
    },
    {
      "cell_type": "code",
      "execution_count": null,
      "metadata": {
        "colab": {
          "base_uri": "https://localhost:8080/",
          "height": 424
        },
        "id": "9fewktPue0MJ",
        "outputId": "52eb5e7e-8b5d-48c7-e459-76042900559e"
      },
      "outputs": [
        {
          "data": {
            "text/html": [
              "\n",
              "  <div id=\"df-1787650e-6a13-44ec-8b5c-25178ef4db32\">\n",
              "    <div class=\"colab-df-container\">\n",
              "      <div>\n",
              "<style scoped>\n",
              "    .dataframe tbody tr th:only-of-type {\n",
              "        vertical-align: middle;\n",
              "    }\n",
              "\n",
              "    .dataframe tbody tr th {\n",
              "        vertical-align: top;\n",
              "    }\n",
              "\n",
              "    .dataframe thead th {\n",
              "        text-align: right;\n",
              "    }\n",
              "</style>\n",
              "<table border=\"1\" class=\"dataframe\">\n",
              "  <thead>\n",
              "    <tr style=\"text-align: right;\">\n",
              "      <th></th>\n",
              "      <th>0</th>\n",
              "      <th>1</th>\n",
              "    </tr>\n",
              "  </thead>\n",
              "  <tbody>\n",
              "    <tr>\n",
              "      <th>52</th>\n",
              "      <td>00006863_masked_image.png</td>\n",
              "      <td>76.749493</td>\n",
              "    </tr>\n",
              "    <tr>\n",
              "      <th>84</th>\n",
              "      <td>00002233_masked_image.png</td>\n",
              "      <td>74.403387</td>\n",
              "    </tr>\n",
              "    <tr>\n",
              "      <th>95</th>\n",
              "      <td>00003732_masked_image.png</td>\n",
              "      <td>70.320255</td>\n",
              "    </tr>\n",
              "    <tr>\n",
              "      <th>110</th>\n",
              "      <td>00005328_masked_image.png</td>\n",
              "      <td>70.480570</td>\n",
              "    </tr>\n",
              "    <tr>\n",
              "      <th>156</th>\n",
              "      <td>00004110_masked_image.png</td>\n",
              "      <td>70.300608</td>\n",
              "    </tr>\n",
              "    <tr>\n",
              "      <th>...</th>\n",
              "      <td>...</td>\n",
              "      <td>...</td>\n",
              "    </tr>\n",
              "    <tr>\n",
              "      <th>6203</th>\n",
              "      <td>00004054_masked_image.png</td>\n",
              "      <td>71.602131</td>\n",
              "    </tr>\n",
              "    <tr>\n",
              "      <th>6223</th>\n",
              "      <td>00006866_masked_image.png</td>\n",
              "      <td>95.258123</td>\n",
              "    </tr>\n",
              "    <tr>\n",
              "      <th>6247</th>\n",
              "      <td>00001607_masked_image.png</td>\n",
              "      <td>71.728161</td>\n",
              "    </tr>\n",
              "    <tr>\n",
              "      <th>6280</th>\n",
              "      <td>00000828_masked_image.png</td>\n",
              "      <td>73.296855</td>\n",
              "    </tr>\n",
              "    <tr>\n",
              "      <th>6286</th>\n",
              "      <td>00003309_masked_image.png</td>\n",
              "      <td>74.824706</td>\n",
              "    </tr>\n",
              "  </tbody>\n",
              "</table>\n",
              "<p>314 rows × 2 columns</p>\n",
              "</div>\n",
              "      <button class=\"colab-df-convert\" onclick=\"convertToInteractive('df-1787650e-6a13-44ec-8b5c-25178ef4db32')\"\n",
              "              title=\"Convert this dataframe to an interactive table.\"\n",
              "              style=\"display:none;\">\n",
              "        \n",
              "  <svg xmlns=\"http://www.w3.org/2000/svg\" height=\"24px\"viewBox=\"0 0 24 24\"\n",
              "       width=\"24px\">\n",
              "    <path d=\"M0 0h24v24H0V0z\" fill=\"none\"/>\n",
              "    <path d=\"M18.56 5.44l.94 2.06.94-2.06 2.06-.94-2.06-.94-.94-2.06-.94 2.06-2.06.94zm-11 1L8.5 8.5l.94-2.06 2.06-.94-2.06-.94L8.5 2.5l-.94 2.06-2.06.94zm10 10l.94 2.06.94-2.06 2.06-.94-2.06-.94-.94-2.06-.94 2.06-2.06.94z\"/><path d=\"M17.41 7.96l-1.37-1.37c-.4-.4-.92-.59-1.43-.59-.52 0-1.04.2-1.43.59L10.3 9.45l-7.72 7.72c-.78.78-.78 2.05 0 2.83L4 21.41c.39.39.9.59 1.41.59.51 0 1.02-.2 1.41-.59l7.78-7.78 2.81-2.81c.8-.78.8-2.07 0-2.86zM5.41 20L4 18.59l7.72-7.72 1.47 1.35L5.41 20z\"/>\n",
              "  </svg>\n",
              "      </button>\n",
              "      \n",
              "  <style>\n",
              "    .colab-df-container {\n",
              "      display:flex;\n",
              "      flex-wrap:wrap;\n",
              "      gap: 12px;\n",
              "    }\n",
              "\n",
              "    .colab-df-convert {\n",
              "      background-color: #E8F0FE;\n",
              "      border: none;\n",
              "      border-radius: 50%;\n",
              "      cursor: pointer;\n",
              "      display: none;\n",
              "      fill: #1967D2;\n",
              "      height: 32px;\n",
              "      padding: 0 0 0 0;\n",
              "      width: 32px;\n",
              "    }\n",
              "\n",
              "    .colab-df-convert:hover {\n",
              "      background-color: #E2EBFA;\n",
              "      box-shadow: 0px 1px 2px rgba(60, 64, 67, 0.3), 0px 1px 3px 1px rgba(60, 64, 67, 0.15);\n",
              "      fill: #174EA6;\n",
              "    }\n",
              "\n",
              "    [theme=dark] .colab-df-convert {\n",
              "      background-color: #3B4455;\n",
              "      fill: #D2E3FC;\n",
              "    }\n",
              "\n",
              "    [theme=dark] .colab-df-convert:hover {\n",
              "      background-color: #434B5C;\n",
              "      box-shadow: 0px 1px 3px 1px rgba(0, 0, 0, 0.15);\n",
              "      filter: drop-shadow(0px 1px 2px rgba(0, 0, 0, 0.3));\n",
              "      fill: #FFFFFF;\n",
              "    }\n",
              "  </style>\n",
              "\n",
              "      <script>\n",
              "        const buttonEl =\n",
              "          document.querySelector('#df-1787650e-6a13-44ec-8b5c-25178ef4db32 button.colab-df-convert');\n",
              "        buttonEl.style.display =\n",
              "          google.colab.kernel.accessAllowed ? 'block' : 'none';\n",
              "\n",
              "        async function convertToInteractive(key) {\n",
              "          const element = document.querySelector('#df-1787650e-6a13-44ec-8b5c-25178ef4db32');\n",
              "          const dataTable =\n",
              "            await google.colab.kernel.invokeFunction('convertToInteractive',\n",
              "                                                     [key], {});\n",
              "          if (!dataTable) return;\n",
              "\n",
              "          const docLinkHtml = 'Like what you see? Visit the ' +\n",
              "            '<a target=\"_blank\" href=https://colab.research.google.com/notebooks/data_table.ipynb>data table notebook</a>'\n",
              "            + ' to learn more about interactive tables.';\n",
              "          element.innerHTML = '';\n",
              "          dataTable['output_type'] = 'display_data';\n",
              "          await google.colab.output.renderOutput(dataTable, element);\n",
              "          const docLink = document.createElement('div');\n",
              "          docLink.innerHTML = docLinkHtml;\n",
              "          element.appendChild(docLink);\n",
              "        }\n",
              "      </script>\n",
              "    </div>\n",
              "  </div>\n",
              "  "
            ],
            "text/plain": [
              "                              0          1\n",
              "52    00006863_masked_image.png  76.749493\n",
              "84    00002233_masked_image.png  74.403387\n",
              "95    00003732_masked_image.png  70.320255\n",
              "110   00005328_masked_image.png  70.480570\n",
              "156   00004110_masked_image.png  70.300608\n",
              "...                         ...        ...\n",
              "6203  00004054_masked_image.png  71.602131\n",
              "6223  00006866_masked_image.png  95.258123\n",
              "6247  00001607_masked_image.png  71.728161\n",
              "6280  00000828_masked_image.png  73.296855\n",
              "6286  00003309_masked_image.png  74.824706\n",
              "\n",
              "[314 rows x 2 columns]"
            ]
          },
          "execution_count": 13,
          "metadata": {},
          "output_type": "execute_result"
        }
      ],
      "source": [
        "low_q_imgs = brisque_df.loc[brisque_df[1] >= 70] # identifies masked images with a brisque score greater than or equal to 70.\n",
        "low_q_imgs"
      ]
    },
    {
      "cell_type": "code",
      "execution_count": null,
      "metadata": {
        "colab": {
          "base_uri": "https://localhost:8080/"
        },
        "id": "xnfKpVqmgbGn",
        "outputId": "ad87f4fd-fed0-47ab-c024-62edf8f14acf"
      },
      "outputs": [
        {
          "data": {
            "text/plain": [
              "52      00006863_masked_image.png\n",
              "84      00002233_masked_image.png\n",
              "95      00003732_masked_image.png\n",
              "110     00005328_masked_image.png\n",
              "156     00004110_masked_image.png\n",
              "                  ...            \n",
              "6203    00004054_masked_image.png\n",
              "6223    00006866_masked_image.png\n",
              "6247    00001607_masked_image.png\n",
              "6280    00000828_masked_image.png\n",
              "6286    00003309_masked_image.png\n",
              "Name: 0, Length: 314, dtype: object"
            ]
          },
          "execution_count": 14,
          "metadata": {},
          "output_type": "execute_result"
        }
      ],
      "source": [
        "low_q_imgs[0]"
      ]
    },
    {
      "cell_type": "markdown",
      "metadata": {
        "id": "pr9C8P-Fg6Ee"
      },
      "source": [
        "Removing low quality images from the dataset"
      ]
    },
    {
      "cell_type": "code",
      "execution_count": null,
      "metadata": {
        "id": "d4h09CQVgMQv"
      },
      "outputs": [],
      "source": [
        "image_dir = gdrive_dir + 'covid-19-chest-x-ray-dataset/masked_images/'\n",
        "unused_dir = gdrive_dir + 'covid-19-chest-x-ray-dataset/masked_images/unused'\n",
        "\n",
        "if not os.path.exists(unused_dir):\n",
        "  os.makedirs(unused_dir)\n",
        "\n",
        "for file in low_q_imgs[0]:\n",
        "    if os.path.isfile(image_dir+file) == True: # check if file exists and then remove if it does\n",
        "        shutil.move(image_dir+file, unused_dir+file)\n",
        "    else:\n",
        "        print(file + ' did not exist, moving on...')"
      ]
    },
    {
      "cell_type": "markdown",
      "metadata": {
        "id": "3qkuUqxsKaj3"
      },
      "source": [
        "### Data Preparation"
      ]
    },
    {
      "cell_type": "markdown",
      "metadata": {
        "id": "QBz_PRU9Ewv6"
      },
      "source": [
        "**This entire *Data Preparation* section of code does not need to be run if the masked images are already located in the *train* and *test* folders.**"
      ]
    },
    {
      "cell_type": "markdown",
      "metadata": {
        "id": "fKrX_BH1xJZp"
      },
      "source": [
        "Creating the directories"
      ]
    },
    {
      "cell_type": "code",
      "execution_count": null,
      "metadata": {
        "id": "anBAiycJlJhA"
      },
      "outputs": [],
      "source": [
        "model_data_dir = gdrive_dir + 'covid-19-chest-x-ray-dataset/masked_images/'\n",
        "\n",
        "classes = ['bacterial','covid','healthy','viral']\n",
        "\n",
        "# create the train and test folders\n",
        "for label in classes:\n",
        "    if not os.path.exists(model_data_dir + 'train/' + label):\n",
        "      os.makedirs(model_data_dir + 'train/' + label)\n",
        "\n",
        "for label in classes:\n",
        "    if not os.path.exists(model_data_dir + 'test/' + label):\n",
        "      os.makedirs(model_data_dir + 'test/' + label)\n",
        "\n",
        "# create the class folders\n",
        "if not os.path.exists(model_data_dir + 'bacterial'):\n",
        "    os.makedirs(model_data_dir + 'bacterial')\n",
        "\n",
        "if not os.path.exists(model_data_dir + 'healthy'):\n",
        "    os.makedirs(model_data_dir + 'healthy')\n",
        "\n",
        "if not os.path.exists(model_data_dir + 'viral'):\n",
        "    os.makedirs(model_data_dir + 'viral')\n",
        "\n",
        "if not os.path.exists(model_data_dir + 'covid'):\n",
        "    os.makedirs(model_data_dir + 'covid')"
      ]
    },
    {
      "cell_type": "markdown",
      "metadata": {
        "id": "gArJw_avxumo"
      },
      "source": [
        "Moving masked images to class folders"
      ]
    },
    {
      "cell_type": "code",
      "execution_count": null,
      "metadata": {
        "id": "5aiyxSBG7Iom"
      },
      "outputs": [],
      "source": [
        "class_df = pd.read_pickle(gdrive_dir + 'covid-19-chest-x-ray-dataset/class_df.pkl')\n",
        "class_df.drop(columns = ['NOS','Fungal Pneumonia','Undefined Pneumonia','Lipoid pneumonia'],inplace=True)\n",
        "class_df['No Pneumonia (healthy)'] = class_df['No Pneumonia (healthy)']*2\n",
        "class_df['Non-COVID Viral Pneumonia'] = class_df['Non-COVID Viral Pneumonia']*3\n",
        "class_df['COVID-19'] = class_df['COVID-19']*4\n",
        "class_df['class'] = class_df[['Bacterial Pneumonia','No Pneumonia (healthy)','Non-COVID Viral Pneumonia', 'COVID-19']].sum(axis=1)\n",
        "\n",
        "# get lists of image filenames for the different classes:\n",
        "bacterial = class_df['filename'][class_df['class']==1].tolist()\n",
        "healthy = class_df['filename'][class_df['class']==2].tolist()\n",
        "viral = class_df['filename'][class_df['class']==3].tolist()\n",
        "covid = class_df['filename'][class_df['class']==4].tolist()\n",
        "\n",
        "image_dir = gdrive_dir + 'covid-19-chest-x-ray-dataset/masked_images/'\n",
        "\n",
        "# move images to the appropriate class folders:\n",
        "for f in bacterial:\n",
        "    f = f.split('.')[0]+'_masked_image.png'\n",
        "    if os.path.isfile(image_dir+f) == True:    # check if file exists and then move to new dir if it does\n",
        "        shutil.move(image_dir+f, image_dir+'bacterial/'+f)\n",
        "    else:\n",
        "        print('File ' + f + ' did not exist, moving on...')\n",
        "\n",
        "for f in healthy:\n",
        "    f = f.split('.')[0]+'_masked_image.png'\n",
        "    if os.path.isfile(image_dir+f) == True:    # check if file exists and then move to new dir if it does\n",
        "        shutil.move(image_dir+f, image_dir+'healthy/'+f)\n",
        "    else:\n",
        "        print('File ' + f + ' did not exist, moving on...')\n",
        "\n",
        "for f in viral:\n",
        "    f = f.split('.')[0]+'_masked_image.png'\n",
        "    if os.path.isfile(image_dir+f) == True:    # check if file exists and then move to new dir if it does\n",
        "        shutil.move(image_dir+f, image_dir+'viral/'+f)\n",
        "    else:\n",
        "        print('File ' + f + ' did not exist, moving on...')\n",
        "\n",
        "for f in covid:\n",
        "    f = f.split('.')[0]+'_masked_image.png'\n",
        "    if os.path.isfile(image_dir+f) == True:    # check if file exists and then move to new dir if it does\n",
        "        shutil.move(image_dir+f, image_dir+'covid/'+f)\n",
        "    else:\n",
        "        print('File ' + f + ' did not exist, moving on...')"
      ]
    },
    {
      "cell_type": "markdown",
      "metadata": {
        "id": "xE5u569EyQY-"
      },
      "source": [
        "Create train and test datasets"
      ]
    },
    {
      "cell_type": "code",
      "execution_count": null,
      "metadata": {
        "id": "gU_zi9lExyaK"
      },
      "outputs": [],
      "source": [
        "from sklearn.model_selection import train_test_split\n",
        "\n",
        "image_dir = gdrive_dir + 'covid-19-chest-x-ray-dataset/masked_images/'\n",
        "classes = ['bacterial','covid','healthy','viral']\n",
        "\n",
        "for label in classes:\n",
        "    dir = image_dir + label\n",
        "    file_list = os.listdir(dir)\n",
        "    shuffle(file_list)\n",
        "\n",
        "    train_files, test_files = train_test_split(file_list, test_size=0.3, random_state=1) # creating a train and test split of the masked images\n",
        "\n",
        "    for file in test_files:\n",
        "        shutil.move(dir+'/'+file, image_dir+'test/'+label+'/'+file)\n",
        "\n",
        "    for file in train_files:\n",
        "        shutil.move(dir+'/'+file, image_dir+'train/'+label+'/'+file)"
      ]
    },
    {
      "cell_type": "markdown",
      "metadata": {
        "id": "BUiuA9PPhgRa"
      },
      "source": [
        "### Building the Initial Models & Evaluation"
      ]
    },
    {
      "cell_type": "markdown",
      "metadata": {
        "id": "aMw_3daQjgi1"
      },
      "source": [
        "Loads in and processes the data to make the train and test datasets. **This code needs to be run before running any of the models in the notebook**"
      ]
    },
    {
      "cell_type": "code",
      "execution_count": 5,
      "metadata": {
        "colab": {
          "base_uri": "https://localhost:8080/"
        },
        "id": "wL-Xpp_IhjAC",
        "outputId": "05b2cf18-b41f-4408-88a0-7086fb8178d9"
      },
      "outputs": [
        {
          "output_type": "stream",
          "name": "stdout",
          "text": [
            "Loading train\n",
            "Loading test\n"
          ]
        }
      ],
      "source": [
        "class_names = ['bacterial','healthy','viral','covid']\n",
        "class_names_label = {class_name:i for i,class_name in enumerate(class_names)}\n",
        "\n",
        "image_dir = gdrive_dir + 'covid-19-chest-x-ray-dataset/masked_images/'\n",
        "\n",
        "IMAGE_SIZE = (200,200)\n",
        "nb_classes = len(class_names)\n",
        "\n",
        "def load_data():\n",
        "    image_dir = gdrive_dir + 'covid-19-chest-x-ray-dataset/masked_images'\n",
        "    CATEGORY = ['train','test']\n",
        "\n",
        "    output = []\n",
        "\n",
        "    for category in CATEGORY:\n",
        "        path = os.path.join(image_dir,category)\n",
        "        images = []\n",
        "        labels = []\n",
        "\n",
        "        print('Loading {}'.format(category))\n",
        "\n",
        "        for folder in os.listdir(path):\n",
        "            label = class_names_label[folder]\n",
        "\n",
        "            for file in os.listdir(os.path.join(path, folder)):\n",
        "                img_path = os.path.join(os.path.join(path, folder), file)\n",
        "\n",
        "                image = cv2.imread(img_path)\n",
        "                image = cv2.resize(image, IMAGE_SIZE)\n",
        "\n",
        "                images.append(image)\n",
        "                labels.append(label)\n",
        "\n",
        "        labels = np.array(labels, dtype = 'int32')\n",
        "        images = np.array(images, dtype = 'float32')\n",
        "\n",
        "        output.append((images, labels))\n",
        "\n",
        "    return output\n",
        "\n",
        "(train_images, train_labels), (test_images, test_labels) = load_data()\n",
        "(train_images, train_labels) = shuffle(train_images, train_labels, random_state = 42)"
      ]
    },
    {
      "cell_type": "markdown",
      "metadata": {
        "id": "NAbstTOphxNq"
      },
      "source": [
        "## Deep Learning Model Development"
      ]
    },
    {
      "cell_type": "markdown",
      "metadata": {
        "id": "MmsNBamwm00M"
      },
      "source": [
        "Loading in the pre-trained ResNet50 model for our image classification task."
      ]
    },
    {
      "cell_type": "code",
      "execution_count": 6,
      "metadata": {
        "colab": {
          "base_uri": "https://localhost:8080/"
        },
        "id": "uV3C8kNuh0_N",
        "outputId": "b733c9d7-f4a8-48b2-9045-89e54b673dad"
      },
      "outputs": [
        {
          "output_type": "stream",
          "name": "stdout",
          "text": [
            "Downloading data from https://storage.googleapis.com/tensorflow/keras-applications/resnet/resnet50_weights_tf_dim_ordering_tf_kernels_notop.h5\n",
            "94765736/94765736 [==============================] - 0s 0us/step\n",
            "Model: \"resnet50\"\n",
            "__________________________________________________________________________________________________\n",
            " Layer (type)                Output Shape                 Param #   Connected to                  \n",
            "==================================================================================================\n",
            " input_1 (InputLayer)        [(None, None, None, 3)]      0         []                            \n",
            "                                                                                                  \n",
            " conv1_pad (ZeroPadding2D)   (None, None, None, 3)        0         ['input_1[0][0]']             \n",
            "                                                                                                  \n",
            " conv1_conv (Conv2D)         (None, None, None, 64)       9472      ['conv1_pad[0][0]']           \n",
            "                                                                                                  \n",
            " conv1_bn (BatchNormalizati  (None, None, None, 64)       256       ['conv1_conv[0][0]']          \n",
            " on)                                                                                              \n",
            "                                                                                                  \n",
            " conv1_relu (Activation)     (None, None, None, 64)       0         ['conv1_bn[0][0]']            \n",
            "                                                                                                  \n",
            " pool1_pad (ZeroPadding2D)   (None, None, None, 64)       0         ['conv1_relu[0][0]']          \n",
            "                                                                                                  \n",
            " pool1_pool (MaxPooling2D)   (None, None, None, 64)       0         ['pool1_pad[0][0]']           \n",
            "                                                                                                  \n",
            " conv2_block1_1_conv (Conv2  (None, None, None, 64)       4160      ['pool1_pool[0][0]']          \n",
            " D)                                                                                               \n",
            "                                                                                                  \n",
            " conv2_block1_1_bn (BatchNo  (None, None, None, 64)       256       ['conv2_block1_1_conv[0][0]'] \n",
            " rmalization)                                                                                     \n",
            "                                                                                                  \n",
            " conv2_block1_1_relu (Activ  (None, None, None, 64)       0         ['conv2_block1_1_bn[0][0]']   \n",
            " ation)                                                                                           \n",
            "                                                                                                  \n",
            " conv2_block1_2_conv (Conv2  (None, None, None, 64)       36928     ['conv2_block1_1_relu[0][0]'] \n",
            " D)                                                                                               \n",
            "                                                                                                  \n",
            " conv2_block1_2_bn (BatchNo  (None, None, None, 64)       256       ['conv2_block1_2_conv[0][0]'] \n",
            " rmalization)                                                                                     \n",
            "                                                                                                  \n",
            " conv2_block1_2_relu (Activ  (None, None, None, 64)       0         ['conv2_block1_2_bn[0][0]']   \n",
            " ation)                                                                                           \n",
            "                                                                                                  \n",
            " conv2_block1_0_conv (Conv2  (None, None, None, 256)      16640     ['pool1_pool[0][0]']          \n",
            " D)                                                                                               \n",
            "                                                                                                  \n",
            " conv2_block1_3_conv (Conv2  (None, None, None, 256)      16640     ['conv2_block1_2_relu[0][0]'] \n",
            " D)                                                                                               \n",
            "                                                                                                  \n",
            " conv2_block1_0_bn (BatchNo  (None, None, None, 256)      1024      ['conv2_block1_0_conv[0][0]'] \n",
            " rmalization)                                                                                     \n",
            "                                                                                                  \n",
            " conv2_block1_3_bn (BatchNo  (None, None, None, 256)      1024      ['conv2_block1_3_conv[0][0]'] \n",
            " rmalization)                                                                                     \n",
            "                                                                                                  \n",
            " conv2_block1_add (Add)      (None, None, None, 256)      0         ['conv2_block1_0_bn[0][0]',   \n",
            "                                                                     'conv2_block1_3_bn[0][0]']   \n",
            "                                                                                                  \n",
            " conv2_block1_out (Activati  (None, None, None, 256)      0         ['conv2_block1_add[0][0]']    \n",
            " on)                                                                                              \n",
            "                                                                                                  \n",
            " conv2_block2_1_conv (Conv2  (None, None, None, 64)       16448     ['conv2_block1_out[0][0]']    \n",
            " D)                                                                                               \n",
            "                                                                                                  \n",
            " conv2_block2_1_bn (BatchNo  (None, None, None, 64)       256       ['conv2_block2_1_conv[0][0]'] \n",
            " rmalization)                                                                                     \n",
            "                                                                                                  \n",
            " conv2_block2_1_relu (Activ  (None, None, None, 64)       0         ['conv2_block2_1_bn[0][0]']   \n",
            " ation)                                                                                           \n",
            "                                                                                                  \n",
            " conv2_block2_2_conv (Conv2  (None, None, None, 64)       36928     ['conv2_block2_1_relu[0][0]'] \n",
            " D)                                                                                               \n",
            "                                                                                                  \n",
            " conv2_block2_2_bn (BatchNo  (None, None, None, 64)       256       ['conv2_block2_2_conv[0][0]'] \n",
            " rmalization)                                                                                     \n",
            "                                                                                                  \n",
            " conv2_block2_2_relu (Activ  (None, None, None, 64)       0         ['conv2_block2_2_bn[0][0]']   \n",
            " ation)                                                                                           \n",
            "                                                                                                  \n",
            " conv2_block2_3_conv (Conv2  (None, None, None, 256)      16640     ['conv2_block2_2_relu[0][0]'] \n",
            " D)                                                                                               \n",
            "                                                                                                  \n",
            " conv2_block2_3_bn (BatchNo  (None, None, None, 256)      1024      ['conv2_block2_3_conv[0][0]'] \n",
            " rmalization)                                                                                     \n",
            "                                                                                                  \n",
            " conv2_block2_add (Add)      (None, None, None, 256)      0         ['conv2_block1_out[0][0]',    \n",
            "                                                                     'conv2_block2_3_bn[0][0]']   \n",
            "                                                                                                  \n",
            " conv2_block2_out (Activati  (None, None, None, 256)      0         ['conv2_block2_add[0][0]']    \n",
            " on)                                                                                              \n",
            "                                                                                                  \n",
            " conv2_block3_1_conv (Conv2  (None, None, None, 64)       16448     ['conv2_block2_out[0][0]']    \n",
            " D)                                                                                               \n",
            "                                                                                                  \n",
            " conv2_block3_1_bn (BatchNo  (None, None, None, 64)       256       ['conv2_block3_1_conv[0][0]'] \n",
            " rmalization)                                                                                     \n",
            "                                                                                                  \n",
            " conv2_block3_1_relu (Activ  (None, None, None, 64)       0         ['conv2_block3_1_bn[0][0]']   \n",
            " ation)                                                                                           \n",
            "                                                                                                  \n",
            " conv2_block3_2_conv (Conv2  (None, None, None, 64)       36928     ['conv2_block3_1_relu[0][0]'] \n",
            " D)                                                                                               \n",
            "                                                                                                  \n",
            " conv2_block3_2_bn (BatchNo  (None, None, None, 64)       256       ['conv2_block3_2_conv[0][0]'] \n",
            " rmalization)                                                                                     \n",
            "                                                                                                  \n",
            " conv2_block3_2_relu (Activ  (None, None, None, 64)       0         ['conv2_block3_2_bn[0][0]']   \n",
            " ation)                                                                                           \n",
            "                                                                                                  \n",
            " conv2_block3_3_conv (Conv2  (None, None, None, 256)      16640     ['conv2_block3_2_relu[0][0]'] \n",
            " D)                                                                                               \n",
            "                                                                                                  \n",
            " conv2_block3_3_bn (BatchNo  (None, None, None, 256)      1024      ['conv2_block3_3_conv[0][0]'] \n",
            " rmalization)                                                                                     \n",
            "                                                                                                  \n",
            " conv2_block3_add (Add)      (None, None, None, 256)      0         ['conv2_block2_out[0][0]',    \n",
            "                                                                     'conv2_block3_3_bn[0][0]']   \n",
            "                                                                                                  \n",
            " conv2_block3_out (Activati  (None, None, None, 256)      0         ['conv2_block3_add[0][0]']    \n",
            " on)                                                                                              \n",
            "                                                                                                  \n",
            " conv3_block1_1_conv (Conv2  (None, None, None, 128)      32896     ['conv2_block3_out[0][0]']    \n",
            " D)                                                                                               \n",
            "                                                                                                  \n",
            " conv3_block1_1_bn (BatchNo  (None, None, None, 128)      512       ['conv3_block1_1_conv[0][0]'] \n",
            " rmalization)                                                                                     \n",
            "                                                                                                  \n",
            " conv3_block1_1_relu (Activ  (None, None, None, 128)      0         ['conv3_block1_1_bn[0][0]']   \n",
            " ation)                                                                                           \n",
            "                                                                                                  \n",
            " conv3_block1_2_conv (Conv2  (None, None, None, 128)      147584    ['conv3_block1_1_relu[0][0]'] \n",
            " D)                                                                                               \n",
            "                                                                                                  \n",
            " conv3_block1_2_bn (BatchNo  (None, None, None, 128)      512       ['conv3_block1_2_conv[0][0]'] \n",
            " rmalization)                                                                                     \n",
            "                                                                                                  \n",
            " conv3_block1_2_relu (Activ  (None, None, None, 128)      0         ['conv3_block1_2_bn[0][0]']   \n",
            " ation)                                                                                           \n",
            "                                                                                                  \n",
            " conv3_block1_0_conv (Conv2  (None, None, None, 512)      131584    ['conv2_block3_out[0][0]']    \n",
            " D)                                                                                               \n",
            "                                                                                                  \n",
            " conv3_block1_3_conv (Conv2  (None, None, None, 512)      66048     ['conv3_block1_2_relu[0][0]'] \n",
            " D)                                                                                               \n",
            "                                                                                                  \n",
            " conv3_block1_0_bn (BatchNo  (None, None, None, 512)      2048      ['conv3_block1_0_conv[0][0]'] \n",
            " rmalization)                                                                                     \n",
            "                                                                                                  \n",
            " conv3_block1_3_bn (BatchNo  (None, None, None, 512)      2048      ['conv3_block1_3_conv[0][0]'] \n",
            " rmalization)                                                                                     \n",
            "                                                                                                  \n",
            " conv3_block1_add (Add)      (None, None, None, 512)      0         ['conv3_block1_0_bn[0][0]',   \n",
            "                                                                     'conv3_block1_3_bn[0][0]']   \n",
            "                                                                                                  \n",
            " conv3_block1_out (Activati  (None, None, None, 512)      0         ['conv3_block1_add[0][0]']    \n",
            " on)                                                                                              \n",
            "                                                                                                  \n",
            " conv3_block2_1_conv (Conv2  (None, None, None, 128)      65664     ['conv3_block1_out[0][0]']    \n",
            " D)                                                                                               \n",
            "                                                                                                  \n",
            " conv3_block2_1_bn (BatchNo  (None, None, None, 128)      512       ['conv3_block2_1_conv[0][0]'] \n",
            " rmalization)                                                                                     \n",
            "                                                                                                  \n",
            " conv3_block2_1_relu (Activ  (None, None, None, 128)      0         ['conv3_block2_1_bn[0][0]']   \n",
            " ation)                                                                                           \n",
            "                                                                                                  \n",
            " conv3_block2_2_conv (Conv2  (None, None, None, 128)      147584    ['conv3_block2_1_relu[0][0]'] \n",
            " D)                                                                                               \n",
            "                                                                                                  \n",
            " conv3_block2_2_bn (BatchNo  (None, None, None, 128)      512       ['conv3_block2_2_conv[0][0]'] \n",
            " rmalization)                                                                                     \n",
            "                                                                                                  \n",
            " conv3_block2_2_relu (Activ  (None, None, None, 128)      0         ['conv3_block2_2_bn[0][0]']   \n",
            " ation)                                                                                           \n",
            "                                                                                                  \n",
            " conv3_block2_3_conv (Conv2  (None, None, None, 512)      66048     ['conv3_block2_2_relu[0][0]'] \n",
            " D)                                                                                               \n",
            "                                                                                                  \n",
            " conv3_block2_3_bn (BatchNo  (None, None, None, 512)      2048      ['conv3_block2_3_conv[0][0]'] \n",
            " rmalization)                                                                                     \n",
            "                                                                                                  \n",
            " conv3_block2_add (Add)      (None, None, None, 512)      0         ['conv3_block1_out[0][0]',    \n",
            "                                                                     'conv3_block2_3_bn[0][0]']   \n",
            "                                                                                                  \n",
            " conv3_block2_out (Activati  (None, None, None, 512)      0         ['conv3_block2_add[0][0]']    \n",
            " on)                                                                                              \n",
            "                                                                                                  \n",
            " conv3_block3_1_conv (Conv2  (None, None, None, 128)      65664     ['conv3_block2_out[0][0]']    \n",
            " D)                                                                                               \n",
            "                                                                                                  \n",
            " conv3_block3_1_bn (BatchNo  (None, None, None, 128)      512       ['conv3_block3_1_conv[0][0]'] \n",
            " rmalization)                                                                                     \n",
            "                                                                                                  \n",
            " conv3_block3_1_relu (Activ  (None, None, None, 128)      0         ['conv3_block3_1_bn[0][0]']   \n",
            " ation)                                                                                           \n",
            "                                                                                                  \n",
            " conv3_block3_2_conv (Conv2  (None, None, None, 128)      147584    ['conv3_block3_1_relu[0][0]'] \n",
            " D)                                                                                               \n",
            "                                                                                                  \n",
            " conv3_block3_2_bn (BatchNo  (None, None, None, 128)      512       ['conv3_block3_2_conv[0][0]'] \n",
            " rmalization)                                                                                     \n",
            "                                                                                                  \n",
            " conv3_block3_2_relu (Activ  (None, None, None, 128)      0         ['conv3_block3_2_bn[0][0]']   \n",
            " ation)                                                                                           \n",
            "                                                                                                  \n",
            " conv3_block3_3_conv (Conv2  (None, None, None, 512)      66048     ['conv3_block3_2_relu[0][0]'] \n",
            " D)                                                                                               \n",
            "                                                                                                  \n",
            " conv3_block3_3_bn (BatchNo  (None, None, None, 512)      2048      ['conv3_block3_3_conv[0][0]'] \n",
            " rmalization)                                                                                     \n",
            "                                                                                                  \n",
            " conv3_block3_add (Add)      (None, None, None, 512)      0         ['conv3_block2_out[0][0]',    \n",
            "                                                                     'conv3_block3_3_bn[0][0]']   \n",
            "                                                                                                  \n",
            " conv3_block3_out (Activati  (None, None, None, 512)      0         ['conv3_block3_add[0][0]']    \n",
            " on)                                                                                              \n",
            "                                                                                                  \n",
            " conv3_block4_1_conv (Conv2  (None, None, None, 128)      65664     ['conv3_block3_out[0][0]']    \n",
            " D)                                                                                               \n",
            "                                                                                                  \n",
            " conv3_block4_1_bn (BatchNo  (None, None, None, 128)      512       ['conv3_block4_1_conv[0][0]'] \n",
            " rmalization)                                                                                     \n",
            "                                                                                                  \n",
            " conv3_block4_1_relu (Activ  (None, None, None, 128)      0         ['conv3_block4_1_bn[0][0]']   \n",
            " ation)                                                                                           \n",
            "                                                                                                  \n",
            " conv3_block4_2_conv (Conv2  (None, None, None, 128)      147584    ['conv3_block4_1_relu[0][0]'] \n",
            " D)                                                                                               \n",
            "                                                                                                  \n",
            " conv3_block4_2_bn (BatchNo  (None, None, None, 128)      512       ['conv3_block4_2_conv[0][0]'] \n",
            " rmalization)                                                                                     \n",
            "                                                                                                  \n",
            " conv3_block4_2_relu (Activ  (None, None, None, 128)      0         ['conv3_block4_2_bn[0][0]']   \n",
            " ation)                                                                                           \n",
            "                                                                                                  \n",
            " conv3_block4_3_conv (Conv2  (None, None, None, 512)      66048     ['conv3_block4_2_relu[0][0]'] \n",
            " D)                                                                                               \n",
            "                                                                                                  \n",
            " conv3_block4_3_bn (BatchNo  (None, None, None, 512)      2048      ['conv3_block4_3_conv[0][0]'] \n",
            " rmalization)                                                                                     \n",
            "                                                                                                  \n",
            " conv3_block4_add (Add)      (None, None, None, 512)      0         ['conv3_block3_out[0][0]',    \n",
            "                                                                     'conv3_block4_3_bn[0][0]']   \n",
            "                                                                                                  \n",
            " conv3_block4_out (Activati  (None, None, None, 512)      0         ['conv3_block4_add[0][0]']    \n",
            " on)                                                                                              \n",
            "                                                                                                  \n",
            " conv4_block1_1_conv (Conv2  (None, None, None, 256)      131328    ['conv3_block4_out[0][0]']    \n",
            " D)                                                                                               \n",
            "                                                                                                  \n",
            " conv4_block1_1_bn (BatchNo  (None, None, None, 256)      1024      ['conv4_block1_1_conv[0][0]'] \n",
            " rmalization)                                                                                     \n",
            "                                                                                                  \n",
            " conv4_block1_1_relu (Activ  (None, None, None, 256)      0         ['conv4_block1_1_bn[0][0]']   \n",
            " ation)                                                                                           \n",
            "                                                                                                  \n",
            " conv4_block1_2_conv (Conv2  (None, None, None, 256)      590080    ['conv4_block1_1_relu[0][0]'] \n",
            " D)                                                                                               \n",
            "                                                                                                  \n",
            " conv4_block1_2_bn (BatchNo  (None, None, None, 256)      1024      ['conv4_block1_2_conv[0][0]'] \n",
            " rmalization)                                                                                     \n",
            "                                                                                                  \n",
            " conv4_block1_2_relu (Activ  (None, None, None, 256)      0         ['conv4_block1_2_bn[0][0]']   \n",
            " ation)                                                                                           \n",
            "                                                                                                  \n",
            " conv4_block1_0_conv (Conv2  (None, None, None, 1024)     525312    ['conv3_block4_out[0][0]']    \n",
            " D)                                                                                               \n",
            "                                                                                                  \n",
            " conv4_block1_3_conv (Conv2  (None, None, None, 1024)     263168    ['conv4_block1_2_relu[0][0]'] \n",
            " D)                                                                                               \n",
            "                                                                                                  \n",
            " conv4_block1_0_bn (BatchNo  (None, None, None, 1024)     4096      ['conv4_block1_0_conv[0][0]'] \n",
            " rmalization)                                                                                     \n",
            "                                                                                                  \n",
            " conv4_block1_3_bn (BatchNo  (None, None, None, 1024)     4096      ['conv4_block1_3_conv[0][0]'] \n",
            " rmalization)                                                                                     \n",
            "                                                                                                  \n",
            " conv4_block1_add (Add)      (None, None, None, 1024)     0         ['conv4_block1_0_bn[0][0]',   \n",
            "                                                                     'conv4_block1_3_bn[0][0]']   \n",
            "                                                                                                  \n",
            " conv4_block1_out (Activati  (None, None, None, 1024)     0         ['conv4_block1_add[0][0]']    \n",
            " on)                                                                                              \n",
            "                                                                                                  \n",
            " conv4_block2_1_conv (Conv2  (None, None, None, 256)      262400    ['conv4_block1_out[0][0]']    \n",
            " D)                                                                                               \n",
            "                                                                                                  \n",
            " conv4_block2_1_bn (BatchNo  (None, None, None, 256)      1024      ['conv4_block2_1_conv[0][0]'] \n",
            " rmalization)                                                                                     \n",
            "                                                                                                  \n",
            " conv4_block2_1_relu (Activ  (None, None, None, 256)      0         ['conv4_block2_1_bn[0][0]']   \n",
            " ation)                                                                                           \n",
            "                                                                                                  \n",
            " conv4_block2_2_conv (Conv2  (None, None, None, 256)      590080    ['conv4_block2_1_relu[0][0]'] \n",
            " D)                                                                                               \n",
            "                                                                                                  \n",
            " conv4_block2_2_bn (BatchNo  (None, None, None, 256)      1024      ['conv4_block2_2_conv[0][0]'] \n",
            " rmalization)                                                                                     \n",
            "                                                                                                  \n",
            " conv4_block2_2_relu (Activ  (None, None, None, 256)      0         ['conv4_block2_2_bn[0][0]']   \n",
            " ation)                                                                                           \n",
            "                                                                                                  \n",
            " conv4_block2_3_conv (Conv2  (None, None, None, 1024)     263168    ['conv4_block2_2_relu[0][0]'] \n",
            " D)                                                                                               \n",
            "                                                                                                  \n",
            " conv4_block2_3_bn (BatchNo  (None, None, None, 1024)     4096      ['conv4_block2_3_conv[0][0]'] \n",
            " rmalization)                                                                                     \n",
            "                                                                                                  \n",
            " conv4_block2_add (Add)      (None, None, None, 1024)     0         ['conv4_block1_out[0][0]',    \n",
            "                                                                     'conv4_block2_3_bn[0][0]']   \n",
            "                                                                                                  \n",
            " conv4_block2_out (Activati  (None, None, None, 1024)     0         ['conv4_block2_add[0][0]']    \n",
            " on)                                                                                              \n",
            "                                                                                                  \n",
            " conv4_block3_1_conv (Conv2  (None, None, None, 256)      262400    ['conv4_block2_out[0][0]']    \n",
            " D)                                                                                               \n",
            "                                                                                                  \n",
            " conv4_block3_1_bn (BatchNo  (None, None, None, 256)      1024      ['conv4_block3_1_conv[0][0]'] \n",
            " rmalization)                                                                                     \n",
            "                                                                                                  \n",
            " conv4_block3_1_relu (Activ  (None, None, None, 256)      0         ['conv4_block3_1_bn[0][0]']   \n",
            " ation)                                                                                           \n",
            "                                                                                                  \n",
            " conv4_block3_2_conv (Conv2  (None, None, None, 256)      590080    ['conv4_block3_1_relu[0][0]'] \n",
            " D)                                                                                               \n",
            "                                                                                                  \n",
            " conv4_block3_2_bn (BatchNo  (None, None, None, 256)      1024      ['conv4_block3_2_conv[0][0]'] \n",
            " rmalization)                                                                                     \n",
            "                                                                                                  \n",
            " conv4_block3_2_relu (Activ  (None, None, None, 256)      0         ['conv4_block3_2_bn[0][0]']   \n",
            " ation)                                                                                           \n",
            "                                                                                                  \n",
            " conv4_block3_3_conv (Conv2  (None, None, None, 1024)     263168    ['conv4_block3_2_relu[0][0]'] \n",
            " D)                                                                                               \n",
            "                                                                                                  \n",
            " conv4_block3_3_bn (BatchNo  (None, None, None, 1024)     4096      ['conv4_block3_3_conv[0][0]'] \n",
            " rmalization)                                                                                     \n",
            "                                                                                                  \n",
            " conv4_block3_add (Add)      (None, None, None, 1024)     0         ['conv4_block2_out[0][0]',    \n",
            "                                                                     'conv4_block3_3_bn[0][0]']   \n",
            "                                                                                                  \n",
            " conv4_block3_out (Activati  (None, None, None, 1024)     0         ['conv4_block3_add[0][0]']    \n",
            " on)                                                                                              \n",
            "                                                                                                  \n",
            " conv4_block4_1_conv (Conv2  (None, None, None, 256)      262400    ['conv4_block3_out[0][0]']    \n",
            " D)                                                                                               \n",
            "                                                                                                  \n",
            " conv4_block4_1_bn (BatchNo  (None, None, None, 256)      1024      ['conv4_block4_1_conv[0][0]'] \n",
            " rmalization)                                                                                     \n",
            "                                                                                                  \n",
            " conv4_block4_1_relu (Activ  (None, None, None, 256)      0         ['conv4_block4_1_bn[0][0]']   \n",
            " ation)                                                                                           \n",
            "                                                                                                  \n",
            " conv4_block4_2_conv (Conv2  (None, None, None, 256)      590080    ['conv4_block4_1_relu[0][0]'] \n",
            " D)                                                                                               \n",
            "                                                                                                  \n",
            " conv4_block4_2_bn (BatchNo  (None, None, None, 256)      1024      ['conv4_block4_2_conv[0][0]'] \n",
            " rmalization)                                                                                     \n",
            "                                                                                                  \n",
            " conv4_block4_2_relu (Activ  (None, None, None, 256)      0         ['conv4_block4_2_bn[0][0]']   \n",
            " ation)                                                                                           \n",
            "                                                                                                  \n",
            " conv4_block4_3_conv (Conv2  (None, None, None, 1024)     263168    ['conv4_block4_2_relu[0][0]'] \n",
            " D)                                                                                               \n",
            "                                                                                                  \n",
            " conv4_block4_3_bn (BatchNo  (None, None, None, 1024)     4096      ['conv4_block4_3_conv[0][0]'] \n",
            " rmalization)                                                                                     \n",
            "                                                                                                  \n",
            " conv4_block4_add (Add)      (None, None, None, 1024)     0         ['conv4_block3_out[0][0]',    \n",
            "                                                                     'conv4_block4_3_bn[0][0]']   \n",
            "                                                                                                  \n",
            " conv4_block4_out (Activati  (None, None, None, 1024)     0         ['conv4_block4_add[0][0]']    \n",
            " on)                                                                                              \n",
            "                                                                                                  \n",
            " conv4_block5_1_conv (Conv2  (None, None, None, 256)      262400    ['conv4_block4_out[0][0]']    \n",
            " D)                                                                                               \n",
            "                                                                                                  \n",
            " conv4_block5_1_bn (BatchNo  (None, None, None, 256)      1024      ['conv4_block5_1_conv[0][0]'] \n",
            " rmalization)                                                                                     \n",
            "                                                                                                  \n",
            " conv4_block5_1_relu (Activ  (None, None, None, 256)      0         ['conv4_block5_1_bn[0][0]']   \n",
            " ation)                                                                                           \n",
            "                                                                                                  \n",
            " conv4_block5_2_conv (Conv2  (None, None, None, 256)      590080    ['conv4_block5_1_relu[0][0]'] \n",
            " D)                                                                                               \n",
            "                                                                                                  \n",
            " conv4_block5_2_bn (BatchNo  (None, None, None, 256)      1024      ['conv4_block5_2_conv[0][0]'] \n",
            " rmalization)                                                                                     \n",
            "                                                                                                  \n",
            " conv4_block5_2_relu (Activ  (None, None, None, 256)      0         ['conv4_block5_2_bn[0][0]']   \n",
            " ation)                                                                                           \n",
            "                                                                                                  \n",
            " conv4_block5_3_conv (Conv2  (None, None, None, 1024)     263168    ['conv4_block5_2_relu[0][0]'] \n",
            " D)                                                                                               \n",
            "                                                                                                  \n",
            " conv4_block5_3_bn (BatchNo  (None, None, None, 1024)     4096      ['conv4_block5_3_conv[0][0]'] \n",
            " rmalization)                                                                                     \n",
            "                                                                                                  \n",
            " conv4_block5_add (Add)      (None, None, None, 1024)     0         ['conv4_block4_out[0][0]',    \n",
            "                                                                     'conv4_block5_3_bn[0][0]']   \n",
            "                                                                                                  \n",
            " conv4_block5_out (Activati  (None, None, None, 1024)     0         ['conv4_block5_add[0][0]']    \n",
            " on)                                                                                              \n",
            "                                                                                                  \n",
            " conv4_block6_1_conv (Conv2  (None, None, None, 256)      262400    ['conv4_block5_out[0][0]']    \n",
            " D)                                                                                               \n",
            "                                                                                                  \n",
            " conv4_block6_1_bn (BatchNo  (None, None, None, 256)      1024      ['conv4_block6_1_conv[0][0]'] \n",
            " rmalization)                                                                                     \n",
            "                                                                                                  \n",
            " conv4_block6_1_relu (Activ  (None, None, None, 256)      0         ['conv4_block6_1_bn[0][0]']   \n",
            " ation)                                                                                           \n",
            "                                                                                                  \n",
            " conv4_block6_2_conv (Conv2  (None, None, None, 256)      590080    ['conv4_block6_1_relu[0][0]'] \n",
            " D)                                                                                               \n",
            "                                                                                                  \n",
            " conv4_block6_2_bn (BatchNo  (None, None, None, 256)      1024      ['conv4_block6_2_conv[0][0]'] \n",
            " rmalization)                                                                                     \n",
            "                                                                                                  \n",
            " conv4_block6_2_relu (Activ  (None, None, None, 256)      0         ['conv4_block6_2_bn[0][0]']   \n",
            " ation)                                                                                           \n",
            "                                                                                                  \n",
            " conv4_block6_3_conv (Conv2  (None, None, None, 1024)     263168    ['conv4_block6_2_relu[0][0]'] \n",
            " D)                                                                                               \n",
            "                                                                                                  \n",
            " conv4_block6_3_bn (BatchNo  (None, None, None, 1024)     4096      ['conv4_block6_3_conv[0][0]'] \n",
            " rmalization)                                                                                     \n",
            "                                                                                                  \n",
            " conv4_block6_add (Add)      (None, None, None, 1024)     0         ['conv4_block5_out[0][0]',    \n",
            "                                                                     'conv4_block6_3_bn[0][0]']   \n",
            "                                                                                                  \n",
            " conv4_block6_out (Activati  (None, None, None, 1024)     0         ['conv4_block6_add[0][0]']    \n",
            " on)                                                                                              \n",
            "                                                                                                  \n",
            " conv5_block1_1_conv (Conv2  (None, None, None, 512)      524800    ['conv4_block6_out[0][0]']    \n",
            " D)                                                                                               \n",
            "                                                                                                  \n",
            " conv5_block1_1_bn (BatchNo  (None, None, None, 512)      2048      ['conv5_block1_1_conv[0][0]'] \n",
            " rmalization)                                                                                     \n",
            "                                                                                                  \n",
            " conv5_block1_1_relu (Activ  (None, None, None, 512)      0         ['conv5_block1_1_bn[0][0]']   \n",
            " ation)                                                                                           \n",
            "                                                                                                  \n",
            " conv5_block1_2_conv (Conv2  (None, None, None, 512)      2359808   ['conv5_block1_1_relu[0][0]'] \n",
            " D)                                                                                               \n",
            "                                                                                                  \n",
            " conv5_block1_2_bn (BatchNo  (None, None, None, 512)      2048      ['conv5_block1_2_conv[0][0]'] \n",
            " rmalization)                                                                                     \n",
            "                                                                                                  \n",
            " conv5_block1_2_relu (Activ  (None, None, None, 512)      0         ['conv5_block1_2_bn[0][0]']   \n",
            " ation)                                                                                           \n",
            "                                                                                                  \n",
            " conv5_block1_0_conv (Conv2  (None, None, None, 2048)     2099200   ['conv4_block6_out[0][0]']    \n",
            " D)                                                                                               \n",
            "                                                                                                  \n",
            " conv5_block1_3_conv (Conv2  (None, None, None, 2048)     1050624   ['conv5_block1_2_relu[0][0]'] \n",
            " D)                                                                                               \n",
            "                                                                                                  \n",
            " conv5_block1_0_bn (BatchNo  (None, None, None, 2048)     8192      ['conv5_block1_0_conv[0][0]'] \n",
            " rmalization)                                                                                     \n",
            "                                                                                                  \n",
            " conv5_block1_3_bn (BatchNo  (None, None, None, 2048)     8192      ['conv5_block1_3_conv[0][0]'] \n",
            " rmalization)                                                                                     \n",
            "                                                                                                  \n",
            " conv5_block1_add (Add)      (None, None, None, 2048)     0         ['conv5_block1_0_bn[0][0]',   \n",
            "                                                                     'conv5_block1_3_bn[0][0]']   \n",
            "                                                                                                  \n",
            " conv5_block1_out (Activati  (None, None, None, 2048)     0         ['conv5_block1_add[0][0]']    \n",
            " on)                                                                                              \n",
            "                                                                                                  \n",
            " conv5_block2_1_conv (Conv2  (None, None, None, 512)      1049088   ['conv5_block1_out[0][0]']    \n",
            " D)                                                                                               \n",
            "                                                                                                  \n",
            " conv5_block2_1_bn (BatchNo  (None, None, None, 512)      2048      ['conv5_block2_1_conv[0][0]'] \n",
            " rmalization)                                                                                     \n",
            "                                                                                                  \n",
            " conv5_block2_1_relu (Activ  (None, None, None, 512)      0         ['conv5_block2_1_bn[0][0]']   \n",
            " ation)                                                                                           \n",
            "                                                                                                  \n",
            " conv5_block2_2_conv (Conv2  (None, None, None, 512)      2359808   ['conv5_block2_1_relu[0][0]'] \n",
            " D)                                                                                               \n",
            "                                                                                                  \n",
            " conv5_block2_2_bn (BatchNo  (None, None, None, 512)      2048      ['conv5_block2_2_conv[0][0]'] \n",
            " rmalization)                                                                                     \n",
            "                                                                                                  \n",
            " conv5_block2_2_relu (Activ  (None, None, None, 512)      0         ['conv5_block2_2_bn[0][0]']   \n",
            " ation)                                                                                           \n",
            "                                                                                                  \n",
            " conv5_block2_3_conv (Conv2  (None, None, None, 2048)     1050624   ['conv5_block2_2_relu[0][0]'] \n",
            " D)                                                                                               \n",
            "                                                                                                  \n",
            " conv5_block2_3_bn (BatchNo  (None, None, None, 2048)     8192      ['conv5_block2_3_conv[0][0]'] \n",
            " rmalization)                                                                                     \n",
            "                                                                                                  \n",
            " conv5_block2_add (Add)      (None, None, None, 2048)     0         ['conv5_block1_out[0][0]',    \n",
            "                                                                     'conv5_block2_3_bn[0][0]']   \n",
            "                                                                                                  \n",
            " conv5_block2_out (Activati  (None, None, None, 2048)     0         ['conv5_block2_add[0][0]']    \n",
            " on)                                                                                              \n",
            "                                                                                                  \n",
            " conv5_block3_1_conv (Conv2  (None, None, None, 512)      1049088   ['conv5_block2_out[0][0]']    \n",
            " D)                                                                                               \n",
            "                                                                                                  \n",
            " conv5_block3_1_bn (BatchNo  (None, None, None, 512)      2048      ['conv5_block3_1_conv[0][0]'] \n",
            " rmalization)                                                                                     \n",
            "                                                                                                  \n",
            " conv5_block3_1_relu (Activ  (None, None, None, 512)      0         ['conv5_block3_1_bn[0][0]']   \n",
            " ation)                                                                                           \n",
            "                                                                                                  \n",
            " conv5_block3_2_conv (Conv2  (None, None, None, 512)      2359808   ['conv5_block3_1_relu[0][0]'] \n",
            " D)                                                                                               \n",
            "                                                                                                  \n",
            " conv5_block3_2_bn (BatchNo  (None, None, None, 512)      2048      ['conv5_block3_2_conv[0][0]'] \n",
            " rmalization)                                                                                     \n",
            "                                                                                                  \n",
            " conv5_block3_2_relu (Activ  (None, None, None, 512)      0         ['conv5_block3_2_bn[0][0]']   \n",
            " ation)                                                                                           \n",
            "                                                                                                  \n",
            " conv5_block3_3_conv (Conv2  (None, None, None, 2048)     1050624   ['conv5_block3_2_relu[0][0]'] \n",
            " D)                                                                                               \n",
            "                                                                                                  \n",
            " conv5_block3_3_bn (BatchNo  (None, None, None, 2048)     8192      ['conv5_block3_3_conv[0][0]'] \n",
            " rmalization)                                                                                     \n",
            "                                                                                                  \n",
            " conv5_block3_add (Add)      (None, None, None, 2048)     0         ['conv5_block2_out[0][0]',    \n",
            "                                                                     'conv5_block3_3_bn[0][0]']   \n",
            "                                                                                                  \n",
            " conv5_block3_out (Activati  (None, None, None, 2048)     0         ['conv5_block3_add[0][0]']    \n",
            " on)                                                                                              \n",
            "                                                                                                  \n",
            "==================================================================================================\n",
            "Total params: 23587712 (89.98 MB)\n",
            "Trainable params: 0 (0.00 Byte)\n",
            "Non-trainable params: 23587712 (89.98 MB)\n",
            "__________________________________________________________________________________________________\n"
          ]
        }
      ],
      "source": [
        "class_model_base = keras.applications.ResNet50(\n",
        "    weights=\"imagenet\",\n",
        "    include_top=False)\n",
        "\n",
        "class_model_base.trainable = False\n",
        "\n",
        "class_model_base.summary()"
      ]
    },
    {
      "cell_type": "code",
      "execution_count": 7,
      "metadata": {
        "colab": {
          "base_uri": "https://localhost:8080/"
        },
        "id": "aRE4GTwBm9c3",
        "outputId": "50c3caf4-9c2b-4528-b39d-d48be16cca44"
      },
      "outputs": [
        {
          "output_type": "stream",
          "name": "stdout",
          "text": [
            "The number of trainable weights in the pretrained model: 40\n"
          ]
        }
      ],
      "source": [
        "class_model_base.trainable = True\n",
        "\n",
        "for layer in class_model_base.layers[:-32]: # making the last layers of the ResNet model trainable - 32 for fine tuned ResNet50\n",
        "  layer.trainable = False\n",
        "\n",
        "print(\"The number of trainable weights in the pretrained model:\", len(class_model_base.trainable_weights))\n"
      ]
    },
    {
      "cell_type": "code",
      "execution_count": 8,
      "metadata": {
        "colab": {
          "base_uri": "https://localhost:8080/"
        },
        "id": "zP54aWZanCS7",
        "outputId": "3532fd21-4dfb-4ff0-ed81-b07e4d0bc133"
      },
      "outputs": [
        {
          "output_type": "stream",
          "name": "stdout",
          "text": [
            "143 conv5_block1_1_conv - True\n",
            "144 conv5_block1_1_bn - True\n",
            "145 conv5_block1_1_relu - True\n",
            "146 conv5_block1_2_conv - True\n",
            "147 conv5_block1_2_bn - True\n",
            "148 conv5_block1_2_relu - True\n",
            "149 conv5_block1_0_conv - True\n",
            "150 conv5_block1_3_conv - True\n",
            "151 conv5_block1_0_bn - True\n",
            "152 conv5_block1_3_bn - True\n",
            "153 conv5_block1_add - True\n",
            "154 conv5_block1_out - True\n",
            "155 conv5_block2_1_conv - True\n",
            "156 conv5_block2_1_bn - True\n",
            "157 conv5_block2_1_relu - True\n",
            "158 conv5_block2_2_conv - True\n",
            "159 conv5_block2_2_bn - True\n",
            "160 conv5_block2_2_relu - True\n",
            "161 conv5_block2_3_conv - True\n",
            "162 conv5_block2_3_bn - True\n",
            "163 conv5_block2_add - True\n",
            "164 conv5_block2_out - True\n",
            "165 conv5_block3_1_conv - True\n",
            "166 conv5_block3_1_bn - True\n",
            "167 conv5_block3_1_relu - True\n",
            "168 conv5_block3_2_conv - True\n",
            "169 conv5_block3_2_bn - True\n",
            "170 conv5_block3_2_relu - True\n",
            "171 conv5_block3_3_conv - True\n",
            "172 conv5_block3_3_bn - True\n",
            "173 conv5_block3_add - True\n",
            "174 conv5_block3_out - True\n"
          ]
        }
      ],
      "source": [
        "for i, layer in enumerate(class_model_base.layers):\n",
        "  if layer.trainable == True: # This prints only the trainable layers of the ResNet50 model base\n",
        "    print(i, layer.name, \"-\", layer.trainable) # Prints the trainable layers that will be used for fine-tuning"
      ]
    },
    {
      "cell_type": "code",
      "execution_count": 9,
      "metadata": {
        "id": "SLxTPgIMnFSp"
      },
      "outputs": [],
      "source": [
        "data_augmentation = keras.Sequential(\n",
        "    [\n",
        "        layers.RandomRotation(0.1, fill_mode='constant',fill_value=0),\n",
        "        layers.RandomZoom(0.1),\n",
        "        layers.RandomTranslation(0.1,0.1,fill_mode='constant',fill_value=0),\n",
        "    ]\n",
        ")\n",
        "\n",
        "inputs = keras.Input(shape=(200, 200, 3))\n",
        "x = layers.Rescaling(1./255),\n",
        "x = data_augmentation(inputs)\n",
        "x = keras.applications.resnet50.preprocess_input(x)\n",
        "x = class_model_base(x) # using the ResNet pre-trained model as the base for my image classification model\n",
        "x = layers.Flatten()(x)\n",
        "x = layers.Dense(512, activation=tf.nn.relu)(x)\n",
        "x = layers.Dropout(0.2)(x) # Used a dropout rate of 0.2 to regularize the model\n",
        "outputs = layers.Dense(nb_classes, activation=tf.nn.softmax)(x)\n",
        "model = keras.Model(inputs, outputs)\n",
        "\n",
        "model.compile(optimizer = 'adam',\n",
        "              loss = 'sparse_categorical_crossentropy',\n",
        "              metrics = ['accuracy'])"
      ]
    },
    {
      "cell_type": "markdown",
      "metadata": {
        "id": "aR1HCPbvJVKx"
      },
      "source": [
        "Creating callbacks and fitting the pre-trained model."
      ]
    },
    {
      "cell_type": "code",
      "execution_count": 10,
      "metadata": {
        "id": "vc4AyaS_n74E",
        "colab": {
          "base_uri": "https://localhost:8080/"
        },
        "outputId": "c97d1a10-8d09-43c1-9a81-955106c61a6b"
      },
      "outputs": [
        {
          "output_type": "stream",
          "name": "stdout",
          "text": [
            "Epoch 1/20\n",
            "34/34 [==============================] - 65s 1s/step - loss: 8.7219 - accuracy: 0.5939 - val_loss: 6485.6660 - val_accuracy: 0.2949\n",
            "Epoch 2/20\n",
            "34/34 [==============================] - 36s 1s/step - loss: 0.7631 - accuracy: 0.7147 - val_loss: 413.1596 - val_accuracy: 0.3014\n",
            "Epoch 3/20\n",
            "34/34 [==============================] - 36s 1s/step - loss: 0.6279 - accuracy: 0.7608 - val_loss: 39.5727 - val_accuracy: 0.3442\n",
            "Epoch 4/20\n",
            "34/34 [==============================] - 37s 1s/step - loss: 0.6039 - accuracy: 0.7731 - val_loss: 0.5568 - val_accuracy: 0.7553\n",
            "Epoch 5/20\n",
            "34/34 [==============================] - 18s 534ms/step - loss: 0.5198 - accuracy: 0.7992 - val_loss: 0.8523 - val_accuracy: 0.6856\n",
            "Epoch 6/20\n",
            "34/34 [==============================] - 38s 1s/step - loss: 0.4811 - accuracy: 0.8099 - val_loss: 0.4773 - val_accuracy: 0.8037\n",
            "Epoch 7/20\n",
            "34/34 [==============================] - 19s 559ms/step - loss: 0.4618 - accuracy: 0.8117 - val_loss: 0.4917 - val_accuracy: 0.8019\n",
            "Epoch 8/20\n",
            "34/34 [==============================] - 20s 581ms/step - loss: 0.4487 - accuracy: 0.8192 - val_loss: 0.5335 - val_accuracy: 0.7795\n",
            "Epoch 9/20\n",
            "34/34 [==============================] - 19s 573ms/step - loss: 0.4308 - accuracy: 0.8315 - val_loss: 0.6979 - val_accuracy: 0.7033\n",
            "Epoch 10/20\n",
            "34/34 [==============================] - 19s 557ms/step - loss: 0.4425 - accuracy: 0.8352 - val_loss: 0.5109 - val_accuracy: 0.8037\n",
            "Epoch 11/20\n",
            "34/34 [==============================] - 37s 1s/step - loss: 0.4064 - accuracy: 0.8478 - val_loss: 0.4586 - val_accuracy: 0.8353\n",
            "Epoch 12/20\n",
            "34/34 [==============================] - 19s 558ms/step - loss: 0.3944 - accuracy: 0.8429 - val_loss: 0.5304 - val_accuracy: 0.7740\n",
            "Epoch 13/20\n",
            "34/34 [==============================] - 20s 584ms/step - loss: 0.3771 - accuracy: 0.8497 - val_loss: 0.4878 - val_accuracy: 0.8214\n",
            "Epoch 14/20\n",
            "34/34 [==============================] - 19s 575ms/step - loss: 0.3805 - accuracy: 0.8485 - val_loss: 0.5134 - val_accuracy: 0.8009\n",
            "Epoch 15/20\n",
            "34/34 [==============================] - 37s 1s/step - loss: 0.3732 - accuracy: 0.8592 - val_loss: 0.4585 - val_accuracy: 0.8279\n",
            "Epoch 16/20\n",
            "34/34 [==============================] - 19s 549ms/step - loss: 0.3707 - accuracy: 0.8476 - val_loss: 0.5359 - val_accuracy: 0.8019\n",
            "Epoch 17/20\n",
            "34/34 [==============================] - 38s 1s/step - loss: 0.3482 - accuracy: 0.8594 - val_loss: 0.4546 - val_accuracy: 0.8167\n",
            "Epoch 18/20\n",
            "34/34 [==============================] - 37s 1s/step - loss: 0.3359 - accuracy: 0.8671 - val_loss: 0.4542 - val_accuracy: 0.8251\n",
            "Epoch 19/20\n",
            "34/34 [==============================] - 19s 573ms/step - loss: 0.3379 - accuracy: 0.8669 - val_loss: 0.4867 - val_accuracy: 0.8130\n",
            "Epoch 20/20\n",
            "34/34 [==============================] - 20s 585ms/step - loss: 0.3401 - accuracy: 0.8660 - val_loss: 0.5463 - val_accuracy: 0.7814\n"
          ]
        }
      ],
      "source": [
        "callbacks = [\n",
        "    keras.callbacks.ModelCheckpoint(\n",
        "        filepath=\"resnet50_im_class_model.ckpt\",\n",
        "        save_best_only=True,\n",
        "        monitor=\"val_loss\")\n",
        "]\n",
        "\n",
        "history = model.fit(train_images,\n",
        "                    train_labels,\n",
        "                    batch_size=128,\n",
        "                    epochs=20,\n",
        "                    validation_split = 0.2,\n",
        "                    callbacks=callbacks)\n"
      ]
    },
    {
      "cell_type": "markdown",
      "metadata": {
        "id": "nvTgTbzTzHd3"
      },
      "source": [
        "Plotting the loss and accuracy of the pre-trained models."
      ]
    },
    {
      "cell_type": "code",
      "execution_count": 11,
      "metadata": {
        "colab": {
          "base_uri": "https://localhost:8080/",
          "height": 661
        },
        "id": "N8qLAyEzy6yd",
        "outputId": "56e3020e-c9c3-470a-bdcb-b52eec753eb3"
      },
      "outputs": [
        {
          "output_type": "stream",
          "name": "stderr",
          "text": [
            "<ipython-input-11-618991e78b26>:3: MatplotlibDeprecationWarning: The seaborn styles shipped by Matplotlib are deprecated since 3.6, as they no longer correspond to the styles shipped by seaborn. However, they will remain available as 'seaborn-v0_8-<style>'. Alternatively, directly use the seaborn API instead.\n",
            "  plt.style.use('seaborn-notebook')\n",
            "<ipython-input-11-618991e78b26>:10: UserWarning: color is redundantly defined by the 'color' keyword argument and the fmt string \"bo-\" (-> color='b'). The keyword argument will take precedence.\n",
            "  plt.plot(history.history['accuracy'],'bo-', label='acc', color=train_col)\n",
            "<ipython-input-11-618991e78b26>:11: UserWarning: color is redundantly defined by the 'color' keyword argument and the fmt string \"ro--\" (-> color='r'). The keyword argument will take precedence.\n",
            "  plt.plot(history.history['val_accuracy'],'ro--', label='val_acc', color=val_col)\n",
            "<ipython-input-11-618991e78b26>:19: UserWarning: color is redundantly defined by the 'color' keyword argument and the fmt string \"bo-\" (-> color='b'). The keyword argument will take precedence.\n",
            "  plt.plot(history.history['loss'],'bo-', label='loss', color=train_col)\n",
            "<ipython-input-11-618991e78b26>:20: UserWarning: color is redundantly defined by the 'color' keyword argument and the fmt string \"ro--\" (-> color='r'). The keyword argument will take precedence.\n",
            "  plt.plot(history.history['val_loss'],'ro--', label='val_loss', color=val_col)\n"
          ]
        },
        {
          "output_type": "display_data",
          "data": {
            "text/plain": [
              "<Figure size 1500x1000 with 2 Axes>"
            ],
            "image/png": "[encoded data removed]"
          },
          "metadata": {}
        }
      ],
      "source": [
        "fig = plt.figure(figsize=(15,10))\n",
        "\n",
        "plt.style.use('seaborn-notebook')\n",
        "\n",
        "train_col = \"#005035\"\n",
        "val_col = \"#A49665\"\n",
        "\n",
        "#plot accuracy:\n",
        "plt.subplot(221)\n",
        "plt.plot(history.history['accuracy'],'bo-', label='acc', color=train_col)\n",
        "plt.plot(history.history['val_accuracy'],'ro--', label='val_acc', color=val_col)\n",
        "plt.title('train_acc vs val_acc')\n",
        "plt.ylabel('accuracy')\n",
        "plt.xlabel('epochs')\n",
        "plt.legend()\n",
        "\n",
        "#plot loss\n",
        "plt.subplot(222)\n",
        "plt.plot(history.history['loss'],'bo-', label='loss', color=train_col)\n",
        "plt.plot(history.history['val_loss'],'ro--', label='val_loss', color=val_col)\n",
        "plt.title('train_loss vs val_loss')\n",
        "plt.ylabel('loss')\n",
        "plt.xlabel('epochs')\n",
        "plt.legend()\n",
        "\n",
        "plt.show()"
      ]
    },
    {
      "cell_type": "markdown",
      "metadata": {
        "id": "qyEvrnTrzCz0"
      },
      "source": [
        "Evaluating the pre-trained models"
      ]
    },
    {
      "cell_type": "code",
      "execution_count": 13,
      "metadata": {
        "colab": {
          "base_uri": "https://localhost:8080/"
        },
        "id": "QuN0Foyxy72m",
        "outputId": "bc29d392-8cdc-42b5-82da-b39e0fa215a4"
      },
      "outputs": [
        {
          "output_type": "stream",
          "name": "stdout",
          "text": [
            "100/100 [==============================] - 11s 90ms/step - loss: 0.3789 - accuracy: 0.8458\n",
            "Test accuracy: 0.846\n"
          ]
        }
      ],
      "source": [
        "# Evaluating the model on the test dataset\n",
        "test_model = keras.models.load_model('resnet50_im_class_model.ckpt')\n",
        "test_loss, test_acc = test_model.evaluate(test_images, test_labels)\n",
        "print(f\"Test accuracy: {test_acc:.3f}\")"
      ]
    },
    {
      "cell_type": "code",
      "execution_count": 15,
      "metadata": {
        "colab": {
          "base_uri": "https://localhost:8080/"
        },
        "id": "XbcT1cOpy_Pj",
        "outputId": "f3afd6d4-63f8-4f47-b184-fcda6470a60c"
      },
      "outputs": [
        {
          "output_type": "stream",
          "name": "stdout",
          "text": [
            "100/100 [==============================] - 9s 82ms/step\n",
            "              precision    recall  f1-score   support\n",
            "\n",
            "           0       0.88      0.80      0.84      1405\n",
            "           1       0.93      0.95      0.94       816\n",
            "           2       0.69      0.76      0.73       734\n",
            "           3       0.87      0.99      0.92       223\n",
            "\n",
            "    accuracy                           0.85      3178\n",
            "   macro avg       0.84      0.88      0.86      3178\n",
            "weighted avg       0.85      0.85      0.85      3178\n",
            "\n"
          ]
        }
      ],
      "source": [
        "predictions = test_model.predict(test_images)\n",
        "pred_labels = np.argmax(predictions, axis = 1)\n",
        "print(classification_report(test_labels, pred_labels))\n",
        "# 0 = bacterial, 1 = healthy, 2 = viral and 3 = covid"
      ]
    },
    {
      "cell_type": "code",
      "source": [
        "from sklearn.metrics import confusion_matrix\n",
        "\n",
        "ic_cm = confusion_matrix(pred_labels, test_labels)\n",
        "sns.heatmap(ic_cm, annot=True, fmt='.0f',xticklabels = ['Bacterial','Healthy','Viral','COVID-19'] , yticklabels = ['Bacterial','Healthy','Viral','COVID-19'], cmap='Greens')\n",
        "plt.ylabel('True Class')\n",
        "plt.xlabel('Predicted Class')\n",
        "plt.title('ResNet50 Image Classifier Model')"
      ],
      "metadata": {
        "id": "OgWsbsSPh2jO",
        "colab": {
          "base_uri": "https://localhost:8080/",
          "height": 549
        },
        "outputId": "3f49e907-46c9-4776-8ec5-559b88554905"
      },
      "execution_count": 16,
      "outputs": [
        {
          "output_type": "execute_result",
          "data": {
            "text/plain": [
              "Text(0.5, 1.0, 'ResNet50 Image Classifier Model')"
            ]
          },
          "metadata": {},
          "execution_count": 16
        },
        {
          "output_type": "display_data",
          "data": {
            "text/plain": [
              "<Figure size 800x550 with 2 Axes>"
            ],
            "image/png": "[encoded data removed]"
          },
          "metadata": {}
        }
      ]
    },
    {
      "cell_type": "markdown",
      "metadata": {
        "id": "4VwVNnpl-hBq"
      },
      "source": [
        "Saving the weights from the final fine-tuned version of the pre-trained ResNet50 model."
      ]
    },
    {
      "cell_type": "code",
      "execution_count": null,
      "metadata": {
        "id": "ZVCVZSlV-cGU"
      },
      "outputs": [],
      "source": [
        "test_model.save(gdrive_dir + 'covid-19-chest-x-ray-dataset/final_pre-trained_model.h5')"
      ]
    }
  ],
  "metadata": {
    "accelerator": "GPU",
    "colab": {
      "provenance": [],
      "gpuType": "T4",
      "machine_shape": "hm"
    },
    "kernelspec": {
      "display_name": "Python 3",
      "name": "python3"
    },
    "language_info": {
      "name": "python"
    }
  },
  "nbformat": 4,
  "nbformat_minor": 0
}